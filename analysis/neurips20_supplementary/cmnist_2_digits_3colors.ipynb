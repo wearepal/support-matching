{
 "cells": [
  {
   "cell_type": "code",
   "execution_count": 16,
   "metadata": {},
   "outputs": [],
   "source": [
    "import pandas as pd\n",
    "import numpy as np"
   ]
  },
  {
   "cell_type": "code",
   "execution_count": 17,
   "metadata": {},
   "outputs": [],
   "source": [
    "from utils import generate_table"
   ]
  },
  {
   "cell_type": "code",
   "execution_count": 18,
   "metadata": {},
   "outputs": [],
   "source": [
    "cmnist_2digit_3color = pd.read_csv(\"cmnist_2digits_3colors.csv\")"
   ]
  },
  {
   "cell_type": "code",
   "execution_count": 24,
   "metadata": {},
   "outputs": [
    {
     "ename": "KeyError",
     "evalue": "\"None of [Index(['Accuracy_colour_0.0/colour_1.0', 'Accuracy_colour_0.0/colour_2.0',\\n       'Accuracy_colour_1.0/colour_2.0'],\\n      dtype='object')] are in the [columns]\"",
     "output_type": "error",
     "traceback": [
      "\u001B[0;31m---------------------------------------------------------------------------\u001B[0m",
      "\u001B[0;31mKeyError\u001B[0m                                  Traceback (most recent call last)",
      "\u001B[0;32m<ipython-input-24-ae09c0eee07e>\u001B[0m in \u001B[0;36m<module>\u001B[0;34m\u001B[0m\n\u001B[0;32m----> 1\u001B[0;31m \u001B[0mcmnist_2digit_3color\u001B[0m\u001B[0;34m[\u001B[0m\u001B[0;34m\"Accuracy Ratio Mean\"\u001B[0m\u001B[0;34m]\u001B[0m \u001B[0;34m=\u001B[0m \u001B[0mcmnist_2digit_3color\u001B[0m\u001B[0;34m[\u001B[0m\u001B[0;34m[\u001B[0m\u001B[0;34m'Accuracy_colour_0.0/colour_1.0'\u001B[0m\u001B[0;34m,\u001B[0m \u001B[0;34m'Accuracy_colour_0.0/colour_2.0'\u001B[0m\u001B[0;34m,\u001B[0m \u001B[0;34m'Accuracy_colour_1.0/colour_2.0'\u001B[0m\u001B[0;34m]\u001B[0m\u001B[0;34m]\u001B[0m\u001B[0;34m.\u001B[0m\u001B[0mmean\u001B[0m\u001B[0;34m(\u001B[0m\u001B[0maxis\u001B[0m\u001B[0;34m=\u001B[0m\u001B[0;36m1\u001B[0m\u001B[0;34m)\u001B[0m\u001B[0;34m\u001B[0m\u001B[0;34m\u001B[0m\u001B[0m\n\u001B[0m\u001B[1;32m      2\u001B[0m \u001B[0mcmnist_2digit_3color\u001B[0m\u001B[0;34m[\u001B[0m\u001B[0;34m\"AR Ratio Mean\"\u001B[0m\u001B[0;34m]\u001B[0m \u001B[0;34m=\u001B[0m \u001B[0mcmnist_2digit_3color\u001B[0m\u001B[0;34m[\u001B[0m\u001B[0;34m[\u001B[0m\u001B[0;34m'prob_pos_colour_0.0/colour_1.0'\u001B[0m\u001B[0;34m,\u001B[0m \u001B[0;34m'prob_pos_colour_0.0/colour_2.0'\u001B[0m\u001B[0;34m,\u001B[0m \u001B[0;34m'prob_pos_colour_1.0/colour_2.0'\u001B[0m\u001B[0;34m]\u001B[0m\u001B[0;34m]\u001B[0m\u001B[0;34m.\u001B[0m\u001B[0mmean\u001B[0m\u001B[0;34m(\u001B[0m\u001B[0maxis\u001B[0m\u001B[0;34m=\u001B[0m\u001B[0;36m1\u001B[0m\u001B[0;34m)\u001B[0m\u001B[0;34m\u001B[0m\u001B[0;34m\u001B[0m\u001B[0m\n\u001B[1;32m      3\u001B[0m \u001B[0mcmnist_2digit_3color\u001B[0m\u001B[0;34m[\u001B[0m\u001B[0;34m\"TPR Ratio Mean\"\u001B[0m\u001B[0;34m]\u001B[0m \u001B[0;34m=\u001B[0m \u001B[0mcmnist_2digit_3color\u001B[0m\u001B[0;34m[\u001B[0m\u001B[0;34m[\u001B[0m\u001B[0;34m'TPR_colour_0.0/colour_1.0'\u001B[0m\u001B[0;34m,\u001B[0m \u001B[0;34m'TPR_colour_0.0/colour_2.0'\u001B[0m\u001B[0;34m,\u001B[0m \u001B[0;34m'TPR_colour_1.0/colour_2.0'\u001B[0m\u001B[0;34m]\u001B[0m\u001B[0;34m]\u001B[0m\u001B[0;34m.\u001B[0m\u001B[0mmean\u001B[0m\u001B[0;34m(\u001B[0m\u001B[0maxis\u001B[0m\u001B[0;34m=\u001B[0m\u001B[0;36m1\u001B[0m\u001B[0;34m)\u001B[0m\u001B[0;34m\u001B[0m\u001B[0;34m\u001B[0m\u001B[0m\n\u001B[1;32m      4\u001B[0m \u001B[0mcmnist_2digit_3color\u001B[0m\u001B[0;34m[\u001B[0m\u001B[0;34m\"TNR Ratio Mean\"\u001B[0m\u001B[0;34m]\u001B[0m \u001B[0;34m=\u001B[0m \u001B[0mcmnist_2digit_3color\u001B[0m\u001B[0;34m[\u001B[0m\u001B[0;34m[\u001B[0m\u001B[0;34m'TNR_colour_0.0/colour_1.0'\u001B[0m\u001B[0;34m,\u001B[0m \u001B[0;34m'TNR_colour_0.0/colour_2.0'\u001B[0m\u001B[0;34m,\u001B[0m \u001B[0;34m'TNR_colour_1.0/colour_2.0'\u001B[0m\u001B[0;34m]\u001B[0m\u001B[0;34m]\u001B[0m\u001B[0;34m.\u001B[0m\u001B[0mmean\u001B[0m\u001B[0;34m(\u001B[0m\u001B[0maxis\u001B[0m\u001B[0;34m=\u001B[0m\u001B[0;36m1\u001B[0m\u001B[0;34m)\u001B[0m\u001B[0;34m\u001B[0m\u001B[0;34m\u001B[0m\u001B[0m\n\u001B[1;32m      5\u001B[0m \u001B[0;34m\u001B[0m\u001B[0m\n",
      "\u001B[0;32m~/anaconda3/envs/fair-dist-matching/lib/python3.8/site-packages/pandas/core/frame.py\u001B[0m in \u001B[0;36m__getitem__\u001B[0;34m(self, key)\u001B[0m\n\u001B[1;32m   2804\u001B[0m             \u001B[0;32mif\u001B[0m \u001B[0mis_iterator\u001B[0m\u001B[0;34m(\u001B[0m\u001B[0mkey\u001B[0m\u001B[0;34m)\u001B[0m\u001B[0;34m:\u001B[0m\u001B[0;34m\u001B[0m\u001B[0;34m\u001B[0m\u001B[0m\n\u001B[1;32m   2805\u001B[0m                 \u001B[0mkey\u001B[0m \u001B[0;34m=\u001B[0m \u001B[0mlist\u001B[0m\u001B[0;34m(\u001B[0m\u001B[0mkey\u001B[0m\u001B[0;34m)\u001B[0m\u001B[0;34m\u001B[0m\u001B[0;34m\u001B[0m\u001B[0m\n\u001B[0;32m-> 2806\u001B[0;31m             \u001B[0mindexer\u001B[0m \u001B[0;34m=\u001B[0m \u001B[0mself\u001B[0m\u001B[0;34m.\u001B[0m\u001B[0mloc\u001B[0m\u001B[0;34m.\u001B[0m\u001B[0m_get_listlike_indexer\u001B[0m\u001B[0;34m(\u001B[0m\u001B[0mkey\u001B[0m\u001B[0;34m,\u001B[0m \u001B[0maxis\u001B[0m\u001B[0;34m=\u001B[0m\u001B[0;36m1\u001B[0m\u001B[0;34m,\u001B[0m \u001B[0mraise_missing\u001B[0m\u001B[0;34m=\u001B[0m\u001B[0;32mTrue\u001B[0m\u001B[0;34m)\u001B[0m\u001B[0;34m[\u001B[0m\u001B[0;36m1\u001B[0m\u001B[0;34m]\u001B[0m\u001B[0;34m\u001B[0m\u001B[0;34m\u001B[0m\u001B[0m\n\u001B[0m\u001B[1;32m   2807\u001B[0m \u001B[0;34m\u001B[0m\u001B[0m\n\u001B[1;32m   2808\u001B[0m         \u001B[0;31m# take() does not accept boolean indexers\u001B[0m\u001B[0;34m\u001B[0m\u001B[0;34m\u001B[0m\u001B[0;34m\u001B[0m\u001B[0m\n",
      "\u001B[0;32m~/anaconda3/envs/fair-dist-matching/lib/python3.8/site-packages/pandas/core/indexing.py\u001B[0m in \u001B[0;36m_get_listlike_indexer\u001B[0;34m(self, key, axis, raise_missing)\u001B[0m\n\u001B[1;32m   1550\u001B[0m             \u001B[0mkeyarr\u001B[0m\u001B[0;34m,\u001B[0m \u001B[0mindexer\u001B[0m\u001B[0;34m,\u001B[0m \u001B[0mnew_indexer\u001B[0m \u001B[0;34m=\u001B[0m \u001B[0max\u001B[0m\u001B[0;34m.\u001B[0m\u001B[0m_reindex_non_unique\u001B[0m\u001B[0;34m(\u001B[0m\u001B[0mkeyarr\u001B[0m\u001B[0;34m)\u001B[0m\u001B[0;34m\u001B[0m\u001B[0;34m\u001B[0m\u001B[0m\n\u001B[1;32m   1551\u001B[0m \u001B[0;34m\u001B[0m\u001B[0m\n\u001B[0;32m-> 1552\u001B[0;31m         self._validate_read_indexer(\n\u001B[0m\u001B[1;32m   1553\u001B[0m             \u001B[0mkeyarr\u001B[0m\u001B[0;34m,\u001B[0m \u001B[0mindexer\u001B[0m\u001B[0;34m,\u001B[0m \u001B[0mo\u001B[0m\u001B[0;34m.\u001B[0m\u001B[0m_get_axis_number\u001B[0m\u001B[0;34m(\u001B[0m\u001B[0maxis\u001B[0m\u001B[0;34m)\u001B[0m\u001B[0;34m,\u001B[0m \u001B[0mraise_missing\u001B[0m\u001B[0;34m=\u001B[0m\u001B[0mraise_missing\u001B[0m\u001B[0;34m\u001B[0m\u001B[0;34m\u001B[0m\u001B[0m\n\u001B[1;32m   1554\u001B[0m         )\n",
      "\u001B[0;32m~/anaconda3/envs/fair-dist-matching/lib/python3.8/site-packages/pandas/core/indexing.py\u001B[0m in \u001B[0;36m_validate_read_indexer\u001B[0;34m(self, key, indexer, axis, raise_missing)\u001B[0m\n\u001B[1;32m   1638\u001B[0m             \u001B[0;32mif\u001B[0m \u001B[0mmissing\u001B[0m \u001B[0;34m==\u001B[0m \u001B[0mlen\u001B[0m\u001B[0;34m(\u001B[0m\u001B[0mindexer\u001B[0m\u001B[0;34m)\u001B[0m\u001B[0;34m:\u001B[0m\u001B[0;34m\u001B[0m\u001B[0;34m\u001B[0m\u001B[0m\n\u001B[1;32m   1639\u001B[0m                 \u001B[0maxis_name\u001B[0m \u001B[0;34m=\u001B[0m \u001B[0mself\u001B[0m\u001B[0;34m.\u001B[0m\u001B[0mobj\u001B[0m\u001B[0;34m.\u001B[0m\u001B[0m_get_axis_name\u001B[0m\u001B[0;34m(\u001B[0m\u001B[0maxis\u001B[0m\u001B[0;34m)\u001B[0m\u001B[0;34m\u001B[0m\u001B[0;34m\u001B[0m\u001B[0m\n\u001B[0;32m-> 1640\u001B[0;31m                 \u001B[0;32mraise\u001B[0m \u001B[0mKeyError\u001B[0m\u001B[0;34m(\u001B[0m\u001B[0;34mf\"None of [{key}] are in the [{axis_name}]\"\u001B[0m\u001B[0;34m)\u001B[0m\u001B[0;34m\u001B[0m\u001B[0;34m\u001B[0m\u001B[0m\n\u001B[0m\u001B[1;32m   1641\u001B[0m \u001B[0;34m\u001B[0m\u001B[0m\n\u001B[1;32m   1642\u001B[0m             \u001B[0;31m# We (temporarily) allow for some missing keys with .loc, except in\u001B[0m\u001B[0;34m\u001B[0m\u001B[0;34m\u001B[0m\u001B[0;34m\u001B[0m\u001B[0m\n",
      "\u001B[0;31mKeyError\u001B[0m: \"None of [Index(['Accuracy_colour_0.0/colour_1.0', 'Accuracy_colour_0.0/colour_2.0',\\n       'Accuracy_colour_1.0/colour_2.0'],\\n      dtype='object')] are in the [columns]\""
     ]
    }
   ],
   "source": [
    "cmnist_2digit_3color[\"Accuracy Ratio Mean\"] = cmnist_2digit_3color[['Accuracy_colour_0.0/colour_1.0', 'Accuracy_colour_0.0/colour_2.0', 'Accuracy_colour_1.0/colour_2.0']].mean(axis=1)\n",
    "cmnist_2digit_3color[\"AR Ratio Mean\"] = cmnist_2digit_3color[['prob_pos_colour_0.0/colour_1.0', 'prob_pos_colour_0.0/colour_2.0', 'prob_pos_colour_1.0/colour_2.0']].mean(axis=1)\n",
    "cmnist_2digit_3color[\"TPR Ratio Mean\"] = cmnist_2digit_3color[['TPR_colour_0.0/colour_1.0', 'TPR_colour_0.0/colour_2.0', 'TPR_colour_1.0/colour_2.0']].mean(axis=1)\n",
    "cmnist_2digit_3color[\"TNR Ratio Mean\"] = cmnist_2digit_3color[['TNR_colour_0.0/colour_1.0', 'TNR_colour_0.0/colour_2.0', 'TNR_colour_1.0/colour_2.0']].mean(axis=1)"
   ]
  },
  {
   "cell_type": "code",
   "execution_count": 25,
   "metadata": {},
   "outputs": [
    {
     "ename": "KeyError",
     "evalue": "\"['Accuracy Ratio', 'TPR Ratio', 'AR Ratio', 'TNR Ratio'] not in index\"",
     "output_type": "error",
     "traceback": [
      "\u001B[0;31m---------------------------------------------------------------------------\u001B[0m",
      "\u001B[0;31mKeyError\u001B[0m                                  Traceback (most recent call last)",
      "\u001B[0;32m<ipython-input-25-06d725bafd08>\u001B[0m in \u001B[0;36m<module>\u001B[0;34m\u001B[0m\n\u001B[0;32m----> 1\u001B[0;31m tab = generate_table(\n\u001B[0m\u001B[1;32m      2\u001B[0m     \u001B[0mdf\u001B[0m\u001B[0;34m=\u001B[0m\u001B[0mcmnist_2digit_3color\u001B[0m\u001B[0;34m,\u001B[0m\u001B[0;34m\u001B[0m\u001B[0;34m\u001B[0m\u001B[0m\n\u001B[1;32m      3\u001B[0m     \u001B[0mtype_renames\u001B[0m\u001B[0;34m=\u001B[0m\u001B[0;34m{\u001B[0m\u001B[0;34m\"x_rand_s\"\u001B[0m\u001B[0;34m:\u001B[0m \u001B[0;34m\"ours\"\u001B[0m\u001B[0;34m,\u001B[0m \u001B[0;34m\"train\"\u001B[0m\u001B[0;34m:\u001B[0m \u001B[0;34m\"baseline\"\u001B[0m\u001B[0;34m}\u001B[0m\u001B[0;34m,\u001B[0m\u001B[0;34m\u001B[0m\u001B[0;34m\u001B[0m\u001B[0m\n\u001B[1;32m      4\u001B[0m     \u001B[0mmetrics\u001B[0m\u001B[0;34m=\u001B[0m\u001B[0;34m[\u001B[0m\u001B[0;34m\"cluster_context_acc\"\u001B[0m\u001B[0;34m,\u001B[0m \u001B[0;34m\"Accuracy\"\u001B[0m\u001B[0;34m,\u001B[0m \u001B[0;34m\"Accuracy Ratio\"\u001B[0m\u001B[0;34m,\u001B[0m \u001B[0;34m\"AR Ratio\"\u001B[0m\u001B[0;34m,\u001B[0m \u001B[0;34m\"TPR Ratio\"\u001B[0m\u001B[0;34m,\u001B[0m \u001B[0;34m\"TNR Ratio\"\u001B[0m\u001B[0;34m]\u001B[0m\u001B[0;34m,\u001B[0m\u001B[0;34m\u001B[0m\u001B[0;34m\u001B[0m\u001B[0m\n\u001B[1;32m      5\u001B[0m \u001B[0;31m#     query=\"~(type == 'baseline' & (approach.str.contains('E&S') | approach.str.contains('kmeans') | approach.str.contains('ranking') | approach == 'true_balancing')) & ~(type == 'ours' & classifier == 'LRCV')\",\u001B[0m\u001B[0;34m\u001B[0m\u001B[0;34m\u001B[0m\u001B[0;34m\u001B[0m\u001B[0m\n",
      "\u001B[0;32m~/Development/fair-dist-matching/analysis/neurips20_supplementary/utils.py\u001B[0m in \u001B[0;36mgenerate_table\u001B[0;34m(df, type_renames, metrics, query)\u001B[0m\n\u001B[1;32m     14\u001B[0m     \u001B[0mdf\u001B[0m\u001B[0;34m[\u001B[0m\u001B[0;34m\"type\"\u001B[0m\u001B[0;34m]\u001B[0m\u001B[0;34m.\u001B[0m\u001B[0mreplace\u001B[0m\u001B[0;34m(\u001B[0m\u001B[0mtype_renames\u001B[0m\u001B[0;34m,\u001B[0m \u001B[0minplace\u001B[0m\u001B[0;34m=\u001B[0m\u001B[0;32mTrue\u001B[0m\u001B[0;34m)\u001B[0m\u001B[0;34m\u001B[0m\u001B[0;34m\u001B[0m\u001B[0m\n\u001B[1;32m     15\u001B[0m     return (\n\u001B[0;32m---> 16\u001B[0;31m         \u001B[0mdf\u001B[0m\u001B[0;34m[\u001B[0m\u001B[0;34m[\u001B[0m\u001B[0;34m\"type\"\u001B[0m\u001B[0;34m,\u001B[0m \u001B[0;34m\"approach\"\u001B[0m\u001B[0;34m,\u001B[0m \u001B[0;34m\"classifier\"\u001B[0m\u001B[0;34m]\u001B[0m \u001B[0;34m+\u001B[0m \u001B[0mmetrics\u001B[0m\u001B[0;34m]\u001B[0m\u001B[0;34m\u001B[0m\u001B[0;34m\u001B[0m\u001B[0m\n\u001B[0m\u001B[1;32m     17\u001B[0m         \u001B[0;34m.\u001B[0m\u001B[0mgroupby\u001B[0m\u001B[0;34m(\u001B[0m\u001B[0;34m[\u001B[0m\u001B[0;34m\"type\"\u001B[0m\u001B[0;34m,\u001B[0m \u001B[0;34m\"approach\"\u001B[0m\u001B[0;34m,\u001B[0m \u001B[0;34m\"classifier\"\u001B[0m\u001B[0;34m]\u001B[0m\u001B[0;34m)\u001B[0m\u001B[0;34m\u001B[0m\u001B[0;34m\u001B[0m\u001B[0m\n\u001B[1;32m     18\u001B[0m         \u001B[0;34m.\u001B[0m\u001B[0magg\u001B[0m\u001B[0;34m(\u001B[0m\u001B[0mcell\u001B[0m\u001B[0;34m)\u001B[0m\u001B[0;34m\u001B[0m\u001B[0;34m\u001B[0m\u001B[0m\n",
      "\u001B[0;32m~/anaconda3/envs/fair-dist-matching/lib/python3.8/site-packages/pandas/core/frame.py\u001B[0m in \u001B[0;36m__getitem__\u001B[0;34m(self, key)\u001B[0m\n\u001B[1;32m   2804\u001B[0m             \u001B[0;32mif\u001B[0m \u001B[0mis_iterator\u001B[0m\u001B[0;34m(\u001B[0m\u001B[0mkey\u001B[0m\u001B[0;34m)\u001B[0m\u001B[0;34m:\u001B[0m\u001B[0;34m\u001B[0m\u001B[0;34m\u001B[0m\u001B[0m\n\u001B[1;32m   2805\u001B[0m                 \u001B[0mkey\u001B[0m \u001B[0;34m=\u001B[0m \u001B[0mlist\u001B[0m\u001B[0;34m(\u001B[0m\u001B[0mkey\u001B[0m\u001B[0;34m)\u001B[0m\u001B[0;34m\u001B[0m\u001B[0;34m\u001B[0m\u001B[0m\n\u001B[0;32m-> 2806\u001B[0;31m             \u001B[0mindexer\u001B[0m \u001B[0;34m=\u001B[0m \u001B[0mself\u001B[0m\u001B[0;34m.\u001B[0m\u001B[0mloc\u001B[0m\u001B[0;34m.\u001B[0m\u001B[0m_get_listlike_indexer\u001B[0m\u001B[0;34m(\u001B[0m\u001B[0mkey\u001B[0m\u001B[0;34m,\u001B[0m \u001B[0maxis\u001B[0m\u001B[0;34m=\u001B[0m\u001B[0;36m1\u001B[0m\u001B[0;34m,\u001B[0m \u001B[0mraise_missing\u001B[0m\u001B[0;34m=\u001B[0m\u001B[0;32mTrue\u001B[0m\u001B[0;34m)\u001B[0m\u001B[0;34m[\u001B[0m\u001B[0;36m1\u001B[0m\u001B[0;34m]\u001B[0m\u001B[0;34m\u001B[0m\u001B[0;34m\u001B[0m\u001B[0m\n\u001B[0m\u001B[1;32m   2807\u001B[0m \u001B[0;34m\u001B[0m\u001B[0m\n\u001B[1;32m   2808\u001B[0m         \u001B[0;31m# take() does not accept boolean indexers\u001B[0m\u001B[0;34m\u001B[0m\u001B[0;34m\u001B[0m\u001B[0;34m\u001B[0m\u001B[0m\n",
      "\u001B[0;32m~/anaconda3/envs/fair-dist-matching/lib/python3.8/site-packages/pandas/core/indexing.py\u001B[0m in \u001B[0;36m_get_listlike_indexer\u001B[0;34m(self, key, axis, raise_missing)\u001B[0m\n\u001B[1;32m   1550\u001B[0m             \u001B[0mkeyarr\u001B[0m\u001B[0;34m,\u001B[0m \u001B[0mindexer\u001B[0m\u001B[0;34m,\u001B[0m \u001B[0mnew_indexer\u001B[0m \u001B[0;34m=\u001B[0m \u001B[0max\u001B[0m\u001B[0;34m.\u001B[0m\u001B[0m_reindex_non_unique\u001B[0m\u001B[0;34m(\u001B[0m\u001B[0mkeyarr\u001B[0m\u001B[0;34m)\u001B[0m\u001B[0;34m\u001B[0m\u001B[0;34m\u001B[0m\u001B[0m\n\u001B[1;32m   1551\u001B[0m \u001B[0;34m\u001B[0m\u001B[0m\n\u001B[0;32m-> 1552\u001B[0;31m         self._validate_read_indexer(\n\u001B[0m\u001B[1;32m   1553\u001B[0m             \u001B[0mkeyarr\u001B[0m\u001B[0;34m,\u001B[0m \u001B[0mindexer\u001B[0m\u001B[0;34m,\u001B[0m \u001B[0mo\u001B[0m\u001B[0;34m.\u001B[0m\u001B[0m_get_axis_number\u001B[0m\u001B[0;34m(\u001B[0m\u001B[0maxis\u001B[0m\u001B[0;34m)\u001B[0m\u001B[0;34m,\u001B[0m \u001B[0mraise_missing\u001B[0m\u001B[0;34m=\u001B[0m\u001B[0mraise_missing\u001B[0m\u001B[0;34m\u001B[0m\u001B[0;34m\u001B[0m\u001B[0m\n\u001B[1;32m   1554\u001B[0m         )\n",
      "\u001B[0;32m~/anaconda3/envs/fair-dist-matching/lib/python3.8/site-packages/pandas/core/indexing.py\u001B[0m in \u001B[0;36m_validate_read_indexer\u001B[0;34m(self, key, indexer, axis, raise_missing)\u001B[0m\n\u001B[1;32m   1644\u001B[0m             \u001B[0;32mif\u001B[0m \u001B[0;32mnot\u001B[0m \u001B[0;34m(\u001B[0m\u001B[0mself\u001B[0m\u001B[0;34m.\u001B[0m\u001B[0mname\u001B[0m \u001B[0;34m==\u001B[0m \u001B[0;34m\"loc\"\u001B[0m \u001B[0;32mand\u001B[0m \u001B[0;32mnot\u001B[0m \u001B[0mraise_missing\u001B[0m\u001B[0;34m)\u001B[0m\u001B[0;34m:\u001B[0m\u001B[0;34m\u001B[0m\u001B[0;34m\u001B[0m\u001B[0m\n\u001B[1;32m   1645\u001B[0m                 \u001B[0mnot_found\u001B[0m \u001B[0;34m=\u001B[0m \u001B[0mlist\u001B[0m\u001B[0;34m(\u001B[0m\u001B[0mset\u001B[0m\u001B[0;34m(\u001B[0m\u001B[0mkey\u001B[0m\u001B[0;34m)\u001B[0m \u001B[0;34m-\u001B[0m \u001B[0mset\u001B[0m\u001B[0;34m(\u001B[0m\u001B[0max\u001B[0m\u001B[0;34m)\u001B[0m\u001B[0;34m)\u001B[0m\u001B[0;34m\u001B[0m\u001B[0;34m\u001B[0m\u001B[0m\n\u001B[0;32m-> 1646\u001B[0;31m                 \u001B[0;32mraise\u001B[0m \u001B[0mKeyError\u001B[0m\u001B[0;34m(\u001B[0m\u001B[0;34mf\"{not_found} not in index\"\u001B[0m\u001B[0;34m)\u001B[0m\u001B[0;34m\u001B[0m\u001B[0;34m\u001B[0m\u001B[0m\n\u001B[0m\u001B[1;32m   1647\u001B[0m \u001B[0;34m\u001B[0m\u001B[0m\n\u001B[1;32m   1648\u001B[0m             \u001B[0;31m# we skip the warning on Categorical/Interval\u001B[0m\u001B[0;34m\u001B[0m\u001B[0;34m\u001B[0m\u001B[0;34m\u001B[0m\u001B[0m\n",
      "\u001B[0;31mKeyError\u001B[0m: \"['Accuracy Ratio', 'TPR Ratio', 'AR Ratio', 'TNR Ratio'] not in index\""
     ]
    }
   ],
   "source": [
    "tab = generate_table(\n",
    "    df=cmnist_2digit_3color,\n",
    "    type_renames={\"x_rand_s\": \"ours\", \"train\": \"baseline\"},\n",
    "    metrics=[\"cluster_context_acc\", \"Accuracy\", \"AR Ratio Mean\", \"TPR Ratio Mean\", \"TNR Ratio Mean\"],\n",
    "#     query=\"~(type == 'baseline' & (approach.str.contains('E&S') | approach.str.contains('kmeans') | approach.str.contains('ranking') | approach == 'true_balancing')) & ~(type == 'ours' & classifier == 'LRCV')\",\n",
    "    query=\"~(type == 'asdfasdf')\",\n",
    ")\n",
    "tab"
   ]
  },
  {
   "cell_type": "code",
   "execution_count": 21,
   "metadata": {},
   "outputs": [
    {
     "name": "stdout",
     "output_type": "stream",
     "text": [
      "\\begin{tabular}{llllllll}\n",
      "\\toprule\n",
      "     &                    &                    & cluster_context_acc &           Accuracy &      AR Ratio Mean &     TPR Ratio Mean &     TNR Ratio Mean \\\\\n",
      "type & approach & classifier &                     &                    &                    &                    &                    \\\\\n",
      "\\midrule\n",
      "baseline & 0.01 & DRO &                 N/A &  0.831 $\\pm$ 0.007 &  0.389 $\\pm$ 0.125 &  0.466 $\\pm$ 0.266 &  0.866 $\\pm$ 0.263 \\\\\n",
      "     & 0.1 & DRO &                 N/A &  0.836 $\\pm$ 0.020 &  0.490 $\\pm$ 0.188 &  0.577 $\\pm$ 0.300 &  0.781 $\\pm$ 0.265 \\\\\n",
      "     & 0.5 & DRO &                 N/A &  0.838 $\\pm$ 0.020 &  0.659 $\\pm$ 0.051 &  0.814 $\\pm$ 0.224 &  0.547 $\\pm$ 0.263 \\\\\n",
      "     & 1 & DRO &                 N/A &  0.775 $\\pm$ 0.049 &  0.443 $\\pm$ 0.131 &  0.667 $\\pm$ 0.236 &  0.458 $\\pm$ 0.260 \\\\\n",
      "     & cnn & CNN &                 N/A &  0.832 $\\pm$ 0.007 &  0.442 $\\pm$ 0.230 &  0.410 $\\pm$ 0.154 &  0.930 $\\pm$ 0.133 \\\\\n",
      "ours & kmeans & pytorch_classifier &   0.640 $\\pm$ 0.123 &  0.774 $\\pm$ 0.076 &  0.636 $\\pm$ 0.184 &  0.380 $\\pm$ 0.088 &  0.750 $\\pm$ 0.214 \\\\\n",
      "     & kmeans oversample & pytorch_classifier &   0.640 $\\pm$ 0.123 &  0.931 $\\pm$ 0.065 &  0.773 $\\pm$ 0.241 &  0.853 $\\pm$ 0.260 &  0.888 $\\pm$ 0.178 \\\\\n",
      "     & no_cluster & pytorch_classifier &   0.000 $\\pm$ 0.000 &  0.909 $\\pm$ 0.081 &  0.824 $\\pm$ 0.155 &  0.807 $\\pm$ 0.247 &  0.940 $\\pm$ 0.074 \\\\\n",
      "     & ranking & pytorch_classifier &   0.728 $\\pm$ 0.046 &  0.941 $\\pm$ 0.062 &  0.784 $\\pm$ 0.217 &  0.841 $\\pm$ 0.246 &  0.942 $\\pm$ 0.082 \\\\\n",
      "     & ranking oversample & pytorch_classifier &   0.728 $\\pm$ 0.046 &  0.860 $\\pm$ 0.157 &  0.595 $\\pm$ 0.429 &  0.621 $\\pm$ 0.449 &  0.984 $\\pm$ 0.016 \\\\\n",
      "\\bottomrule\n",
      "\\end{tabular}\n",
      "\n"
     ]
    }
   ],
   "source": [
    "print(tab.to_latex(escape=False))"
   ]
  },
  {
   "cell_type": "code",
   "execution_count": 13,
   "metadata": {},
   "outputs": [
    {
     "ename": "NameError",
     "evalue": "name 'm1' is not defined",
     "output_type": "error",
     "traceback": [
      "\u001B[0;31m---------------------------------------------------------------------------\u001B[0m",
      "\u001B[0;31mNameError\u001B[0m                                 Traceback (most recent call last)",
      "\u001B[0;32m<ipython-input-13-e6ae45750c65>\u001B[0m in \u001B[0;36m<module>\u001B[0;34m\u001B[0m\n\u001B[0;32m----> 1\u001B[0;31m \u001B[0mprint\u001B[0m\u001B[0;34m(\u001B[0m\u001B[0mm1\u001B[0m\u001B[0;34m.\u001B[0m\u001B[0mto_latex\u001B[0m\u001B[0;34m(\u001B[0m\u001B[0mescape\u001B[0m\u001B[0;34m=\u001B[0m\u001B[0;32mFalse\u001B[0m\u001B[0;34m)\u001B[0m\u001B[0;34m)\u001B[0m\u001B[0;34m\u001B[0m\u001B[0;34m\u001B[0m\u001B[0m\n\u001B[0m\u001B[1;32m      2\u001B[0m \u001B[0;34m\u001B[0m\u001B[0m\n",
      "\u001B[0;31mNameError\u001B[0m: name 'm1' is not defined"
     ]
    }
   ],
   "source": [
    "print(m1.to_latex(escape=False))"
   ]
  },
  {
   "cell_type": "code",
   "execution_count": null,
   "metadata": {},
   "outputs": [],
   "source": []
  }
 ],
 "metadata": {
  "kernelspec": {
   "display_name": "Python 3",
   "language": "python",
   "name": "python3"
  },
  "language_info": {
   "codemirror_mode": {
    "name": "ipython",
    "version": 3
   },
   "file_extension": ".py",
   "mimetype": "text/x-python",
   "name": "python",
   "nbconvert_exporter": "python",
   "pygments_lexer": "ipython3",
   "version": "3.7.7"
  }
 },
 "nbformat": 4,
 "nbformat_minor": 4
}