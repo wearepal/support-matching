{
 "cells": [
  {
   "cell_type": "code",
   "execution_count": 1,
   "metadata": {
    "collapsed": true
   },
   "outputs": [],
   "source": [
    "import pandas as pd"
   ]
  },
  {
   "cell_type": "code",
   "execution_count": 2,
   "outputs": [],
   "source": [
    "from utils import generate_table\n"
   ],
   "metadata": {
    "collapsed": false,
    "pycharm": {
     "name": "#%%\n"
    }
   }
  },
  {
   "cell_type": "code",
   "execution_count": 4,
   "outputs": [],
   "source": [
    "cmnist_2digit_2color = pd.read_csv(\"cmnist_2digits_2colors_1missing.csv\")"
   ],
   "metadata": {
    "collapsed": false,
    "pycharm": {
     "name": "#%%\n"
    }
   }
  },
  {
   "cell_type": "code",
   "execution_count": 10,
   "outputs": [],
   "source": [
    "cmnist_2digit_2color[\"Accuracy Ratio\"] = cmnist_2digit_2color[['Accuracy_sens_0/sens_1']]\n",
    "cmnist_2digit_2color[\"AR Ratio\"] = cmnist_2digit_2color[['prob_pos_sens_0/sens_1']]\n",
    "cmnist_2digit_2color[\"TPR Ratio\"] = cmnist_2digit_2color[['TPR_sens_0/sens_1']]\n",
    "cmnist_2digit_2color[\"TNR Ratio\"] = cmnist_2digit_2color[['TNR_sens_0/sens_1']]"
   ],
   "metadata": {
    "collapsed": false,
    "pycharm": {
     "name": "#%%\n"
    }
   }
  },
  {
   "cell_type": "code",
   "execution_count": 12,
   "outputs": [
    {
     "data": {
      "text/plain": "                                       cluster_context_acc           Accuracy  \\\ntype     approach   classifier                                                  \nbaseline 0.01       DRO                                N/A  0.914 $\\pm$ 0.058   \n         0.1        DRO                                N/A  0.908 $\\pm$ 0.067   \n         0.5        DRO                                N/A  0.801 $\\pm$ 0.074   \n         1          DRO                                N/A  0.667 $\\pm$ 0.112   \n         CNN        CNN                                N/A  0.865 $\\pm$ 0.054   \nours     K-Means    pytorch_classifier   0.755 $\\pm$ 0.128  0.839 $\\pm$ 0.116   \n         No Cluster pytorch_classifier   0.000 $\\pm$ 0.000  0.859 $\\pm$ 0.108   \n         Ranking    pytorch_classifier   0.919 $\\pm$ 0.065  0.863 $\\pm$ 0.114   \n\n                                           Accuracy Ratio           AR Ratio  \\\ntype     approach   classifier                                                 \nbaseline 0.01       DRO                 0.837 $\\pm$ 0.115  0.643 $\\pm$ 0.236   \n         0.1        DRO                 0.824 $\\pm$ 0.133  0.619 $\\pm$ 0.270   \n         0.5        DRO                 0.614 $\\pm$ 0.147  0.190 $\\pm$ 0.298   \n         1          DRO                 0.718 $\\pm$ 0.187  0.083 $\\pm$ 0.203   \n         CNN        CNN                 0.741 $\\pm$ 0.106  0.448 $\\pm$ 0.219   \nours     K-Means    pytorch_classifier  0.719 $\\pm$ 0.205  0.391 $\\pm$ 0.425   \n         No Cluster pytorch_classifier  0.736 $\\pm$ 0.210  0.432 $\\pm$ 0.424   \n         Ranking    pytorch_classifier  0.759 $\\pm$ 0.204  0.466 $\\pm$ 0.424   \n\n                                                TPR Ratio          TNR Ratio  \ntype     approach   classifier                                                \nbaseline 0.01       DRO                 0.656 $\\pm$ 0.238  0.991 $\\pm$ 0.005  \n         0.1        DRO                 0.631 $\\pm$ 0.274  0.991 $\\pm$ 0.005  \n         0.5        DRO                 0.194 $\\pm$ 0.302  0.987 $\\pm$ 0.024  \n         1          DRO                 0.094 $\\pm$ 0.229  0.833 $\\pm$ 0.291  \n         CNN        CNN                 0.456 $\\pm$ 0.220  0.989 $\\pm$ 0.005  \nours     K-Means    pytorch_classifier  0.401 $\\pm$ 0.435  0.973 $\\pm$ 0.082  \n         No Cluster pytorch_classifier  0.446 $\\pm$ 0.438  0.983 $\\pm$ 0.020  \n         Ranking    pytorch_classifier  0.478 $\\pm$ 0.434  0.973 $\\pm$ 0.090  ",
      "text/html": "<div>\n<style scoped>\n    .dataframe tbody tr th:only-of-type {\n        vertical-align: middle;\n    }\n\n    .dataframe tbody tr th {\n        vertical-align: top;\n    }\n\n    .dataframe thead th {\n        text-align: right;\n    }\n</style>\n<table border=\"1\" class=\"dataframe\">\n  <thead>\n    <tr style=\"text-align: right;\">\n      <th></th>\n      <th></th>\n      <th></th>\n      <th>cluster_context_acc</th>\n      <th>Accuracy</th>\n      <th>Accuracy Ratio</th>\n      <th>AR Ratio</th>\n      <th>TPR Ratio</th>\n      <th>TNR Ratio</th>\n    </tr>\n    <tr>\n      <th>type</th>\n      <th>approach</th>\n      <th>classifier</th>\n      <th></th>\n      <th></th>\n      <th></th>\n      <th></th>\n      <th></th>\n      <th></th>\n    </tr>\n  </thead>\n  <tbody>\n    <tr>\n      <th rowspan=\"5\" valign=\"top\">baseline</th>\n      <th>0.01</th>\n      <th>DRO</th>\n      <td>N/A</td>\n      <td>0.914 $\\pm$ 0.058</td>\n      <td>0.837 $\\pm$ 0.115</td>\n      <td>0.643 $\\pm$ 0.236</td>\n      <td>0.656 $\\pm$ 0.238</td>\n      <td>0.991 $\\pm$ 0.005</td>\n    </tr>\n    <tr>\n      <th>0.1</th>\n      <th>DRO</th>\n      <td>N/A</td>\n      <td>0.908 $\\pm$ 0.067</td>\n      <td>0.824 $\\pm$ 0.133</td>\n      <td>0.619 $\\pm$ 0.270</td>\n      <td>0.631 $\\pm$ 0.274</td>\n      <td>0.991 $\\pm$ 0.005</td>\n    </tr>\n    <tr>\n      <th>0.5</th>\n      <th>DRO</th>\n      <td>N/A</td>\n      <td>0.801 $\\pm$ 0.074</td>\n      <td>0.614 $\\pm$ 0.147</td>\n      <td>0.190 $\\pm$ 0.298</td>\n      <td>0.194 $\\pm$ 0.302</td>\n      <td>0.987 $\\pm$ 0.024</td>\n    </tr>\n    <tr>\n      <th>1</th>\n      <th>DRO</th>\n      <td>N/A</td>\n      <td>0.667 $\\pm$ 0.112</td>\n      <td>0.718 $\\pm$ 0.187</td>\n      <td>0.083 $\\pm$ 0.203</td>\n      <td>0.094 $\\pm$ 0.229</td>\n      <td>0.833 $\\pm$ 0.291</td>\n    </tr>\n    <tr>\n      <th>CNN</th>\n      <th>CNN</th>\n      <td>N/A</td>\n      <td>0.865 $\\pm$ 0.054</td>\n      <td>0.741 $\\pm$ 0.106</td>\n      <td>0.448 $\\pm$ 0.219</td>\n      <td>0.456 $\\pm$ 0.220</td>\n      <td>0.989 $\\pm$ 0.005</td>\n    </tr>\n    <tr>\n      <th rowspan=\"3\" valign=\"top\">ours</th>\n      <th>K-Means</th>\n      <th>pytorch_classifier</th>\n      <td>0.755 $\\pm$ 0.128</td>\n      <td>0.839 $\\pm$ 0.116</td>\n      <td>0.719 $\\pm$ 0.205</td>\n      <td>0.391 $\\pm$ 0.425</td>\n      <td>0.401 $\\pm$ 0.435</td>\n      <td>0.973 $\\pm$ 0.082</td>\n    </tr>\n    <tr>\n      <th>No Cluster</th>\n      <th>pytorch_classifier</th>\n      <td>0.000 $\\pm$ 0.000</td>\n      <td>0.859 $\\pm$ 0.108</td>\n      <td>0.736 $\\pm$ 0.210</td>\n      <td>0.432 $\\pm$ 0.424</td>\n      <td>0.446 $\\pm$ 0.438</td>\n      <td>0.983 $\\pm$ 0.020</td>\n    </tr>\n    <tr>\n      <th>Ranking</th>\n      <th>pytorch_classifier</th>\n      <td>0.919 $\\pm$ 0.065</td>\n      <td>0.863 $\\pm$ 0.114</td>\n      <td>0.759 $\\pm$ 0.204</td>\n      <td>0.466 $\\pm$ 0.424</td>\n      <td>0.478 $\\pm$ 0.434</td>\n      <td>0.973 $\\pm$ 0.090</td>\n    </tr>\n  </tbody>\n</table>\n</div>"
     },
     "execution_count": 12,
     "metadata": {},
     "output_type": "execute_result"
    }
   ],
   "source": [
    "tab = generate_table(\n",
    "    df=cmnist_2digit_2color,\n",
    "    type_renames={\"x_rand_s\": \"ours\", \"train\": \"baseline\"},\n",
    "    metrics=[\"cluster_context_acc\", \"Accuracy\", \"Accuracy Ratio\", \"AR Ratio\", \"TPR Ratio\", \"TNR Ratio\"],\n",
    "#     query=\"~(type == 'baseline' & (approach.str.contains('E&S') | approach.str.contains('kmeans') | approach.str.contains('ranking') | approach == 'true_balancing')) & ~(type == 'ours' & classifier == 'LRCV')\",\n",
    "    query=\"~(type == 'asdfasdf')\",\n",
    ")\n",
    "tab"
   ],
   "metadata": {
    "collapsed": false,
    "pycharm": {
     "name": "#%%\n"
    }
   }
  },
  {
   "cell_type": "code",
   "execution_count": null,
   "outputs": [],
   "source": [
    "\n"
   ],
   "metadata": {
    "collapsed": false,
    "pycharm": {
     "name": "#%%\n"
    }
   }
  }
 ],
 "metadata": {
  "kernelspec": {
   "display_name": "Python 3",
   "language": "python",
   "name": "python3"
  },
  "language_info": {
   "codemirror_mode": {
    "name": "ipython",
    "version": 2
   },
   "file_extension": ".py",
   "mimetype": "text/x-python",
   "name": "python",
   "nbconvert_exporter": "python",
   "pygments_lexer": "ipython2",
   "version": "2.7.6"
  }
 },
 "nbformat": 4,
 "nbformat_minor": 0
}