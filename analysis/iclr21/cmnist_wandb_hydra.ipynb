{
 "cells": [
  {
   "cell_type": "code",
   "execution_count": 1,
   "metadata": {},
   "outputs": [],
   "source": [
    "from pathlib import Path\n",
    "import pandas as pd\n",
    "import numpy as np"
   ]
  },
  {
   "cell_type": "code",
   "execution_count": 2,
   "metadata": {},
   "outputs": [],
   "source": [
    "from utils import generate_table, Cell, to_latex, merge_cols"
   ]
  },
  {
   "cell_type": "code",
   "execution_count": 3,
   "metadata": {},
   "outputs": [],
   "source": [
    "data = pd.read_csv(\"../../results/cmnist/3_digits/first_decent_results.csv\")"
   ]
  },
  {
   "cell_type": "code",
   "execution_count": 4,
   "metadata": {},
   "outputs": [
    {
     "data": {
      "text/plain": [
       ".same_as_for2.zs2.even_longer.3dig_4miss    30\n",
       "Name: Group, dtype: int64"
      ]
     },
     "execution_count": 4,
     "metadata": {},
     "output_type": "execute_result"
    }
   ],
   "source": [
    "data[\"Group\"].value_counts()"
   ]
  },
  {
   "cell_type": "code",
   "execution_count": 5,
   "metadata": {},
   "outputs": [],
   "source": [
    "data = data.replace({\"Group\": {\n",
    "    \".same_as_for2.zs2.even_longer.3dig_4miss\": r\"\\texttt{ZSF}\",\n",
    "}}, inplace=False)"
   ]
  },
  {
   "cell_type": "code",
   "execution_count": 6,
   "metadata": {},
   "outputs": [
    {
     "data": {
      "text/plain": [
       "Index(['Name', 'misc.seed', 'Runtime', 'Group', 'Hostname', 'State',\n",
       "       'bias.log_dataset', 'fdm.balanced_context', 'fdm.lr',\n",
       "       'misc.data_split_seed', 'misc.exp_group', 'misc.log_method',\n",
       "       'Accuracy (pytorch_classifier)', 'Accuracy Discriminator (zy)',\n",
       "       'Accuracy Predictor s', 'Accuracy Predictor y',\n",
       "       'Accuracy_colour_0.0 (pytorch_classifier)',\n",
       "       'Accuracy_colour_0.0-colour_1.0 (pytorch_classifier)',\n",
       "       'Accuracy_colour_0.0-colour_2.0 (pytorch_classifier)',\n",
       "       'Accuracy_colour_0.0÷colour_1.0 (pytorch_classifier)',\n",
       "       'Accuracy_colour_0.0÷colour_2.0 (pytorch_classifier)',\n",
       "       'Accuracy_colour_1.0 (pytorch_classifier)',\n",
       "       'Accuracy_colour_1.0-colour_2.0 (pytorch_classifier)',\n",
       "       'Accuracy_colour_1.0÷colour_2.0 (pytorch_classifier)',\n",
       "       'Accuracy_colour_2.0 (pytorch_classifier)', 'ELBO', 'Learning rate',\n",
       "       'Loss Adversarial', 'Loss Generator', 'Loss Predictor s',\n",
       "       'Loss Predictor y', 'Loss reconstruction', 'Prior Loss',\n",
       "       'Renyi preds and s (pytorch_classifier)', 'TNR (pytorch_classifier)',\n",
       "       'TNR_colour_0.0 (pytorch_classifier)',\n",
       "       'TNR_colour_0.0-colour_1.0 (pytorch_classifier)',\n",
       "       'TNR_colour_0.0-colour_2.0 (pytorch_classifier)',\n",
       "       'TNR_colour_0.0÷colour_1.0 (pytorch_classifier)',\n",
       "       'TNR_colour_0.0÷colour_2.0 (pytorch_classifier)',\n",
       "       'TNR_colour_1.0 (pytorch_classifier)',\n",
       "       'TNR_colour_1.0-colour_2.0 (pytorch_classifier)',\n",
       "       'TNR_colour_1.0÷colour_2.0 (pytorch_classifier)',\n",
       "       'TNR_colour_2.0 (pytorch_classifier)', 'TPR (pytorch_classifier)',\n",
       "       'TPR_colour_0.0 (pytorch_classifier)',\n",
       "       'TPR_colour_0.0-colour_1.0 (pytorch_classifier)',\n",
       "       'TPR_colour_0.0-colour_2.0 (pytorch_classifier)',\n",
       "       'TPR_colour_0.0÷colour_1.0 (pytorch_classifier)',\n",
       "       'TPR_colour_0.0÷colour_2.0 (pytorch_classifier)',\n",
       "       'TPR_colour_1.0 (pytorch_classifier)',\n",
       "       'TPR_colour_1.0-colour_2.0 (pytorch_classifier)',\n",
       "       'TPR_colour_1.0÷colour_2.0 (pytorch_classifier)',\n",
       "       'TPR_colour_2.0 (pytorch_classifier)',\n",
       "       'prob_pos_colour_0.0 (pytorch_classifier)',\n",
       "       'prob_pos_colour_0.0-colour_1.0 (pytorch_classifier)',\n",
       "       'prob_pos_colour_0.0-colour_2.0 (pytorch_classifier)',\n",
       "       'prob_pos_colour_0.0÷colour_1.0 (pytorch_classifier)',\n",
       "       'prob_pos_colour_0.0÷colour_2.0 (pytorch_classifier)',\n",
       "       'prob_pos_colour_1.0 (pytorch_classifier)',\n",
       "       'prob_pos_colour_1.0-colour_2.0 (pytorch_classifier)',\n",
       "       'prob_pos_colour_1.0÷colour_2.0 (pytorch_classifier)',\n",
       "       'prob_pos_colour_2.0 (pytorch_classifier)'],\n",
       "      dtype='object')"
      ]
     },
     "execution_count": 6,
     "metadata": {},
     "output_type": "execute_result"
    }
   ],
   "source": [
    "data.columns"
   ]
  },
  {
   "cell_type": "code",
   "execution_count": 45,
   "metadata": {},
   "outputs": [],
   "source": [
    "def compute_ratio_means(df, metric: str, suffix: str = \" (pytorch_classifier)\"):\n",
    "    ratios = (\n",
    "        df[f\"{metric}_colour_0.0÷colour_1.0\" + suffix],\n",
    "        df[f\"{metric}_colour_0.0÷colour_2.0\" + suffix],\n",
    "        df[f\"{metric}_colour_1.0÷colour_2.0\" + suffix],\n",
    "    )\n",
    "    mean = 0\n",
    "    for ratio in ratios:\n",
    "        assert (ratio <= 1.0).all(), str((ratio < 1.0))\n",
    "        mean += ratio\n",
    "    df[f\"{metric} ratio mean\"] = mean / len(ratios)"
   ]
  },
  {
   "cell_type": "code",
   "execution_count": 78,
   "metadata": {},
   "outputs": [],
   "source": [
    "def compute_ratio_min(df, metric: str, suffix: str = \" (pytorch_classifier)\"):\n",
    "    ratios = (\n",
    "        df[f\"{metric}_colour_0.0÷colour_1.0\" + suffix],\n",
    "        df[f\"{metric}_colour_0.0÷colour_2.0\" + suffix],\n",
    "        df[f\"{metric}_colour_1.0÷colour_2.0\" + suffix],\n",
    "    )\n",
    "    min_ = pd.Series(1, ratios[0].index)\n",
    "    for ratio in ratios:\n",
    "        min_ = min_.where(min_ < ratio, ratio)\n",
    "    df[f\"{metric} ratio min\"] = min_"
   ]
  },
  {
   "cell_type": "code",
   "execution_count": 79,
   "metadata": {},
   "outputs": [],
   "source": [
    "def compute_diff_max(df, metric: str, suffix: str = \" (pytorch_classifier)\"):\n",
    "    diffs = (\n",
    "        df[f\"{metric}_colour_0.0-colour_1.0\" + suffix],\n",
    "        df[f\"{metric}_colour_0.0-colour_2.0\" + suffix],\n",
    "        df[f\"{metric}_colour_1.0-colour_2.0\" + suffix],\n",
    "    )\n",
    "    max_ = pd.Series(0, diffs[0].index)\n",
    "    for diff in diffs:\n",
    "        max_ = max_.where(max_ > diff, diff)\n",
    "    df[f\"{metric} diff max\"] = max_"
   ]
  },
  {
   "cell_type": "code",
   "execution_count": 80,
   "metadata": {},
   "outputs": [],
   "source": [
    "compute_ratio_means(data, \"prob_pos\")\n",
    "compute_ratio_means(data, \"TPR\")\n",
    "compute_ratio_means(data, \"TNR\")\n",
    "compute_ratio_min(data, \"prob_pos\")\n",
    "compute_ratio_min(data, \"TPR\")\n",
    "compute_ratio_min(data, \"TNR\")\n",
    "compute_diff_max(data, \"prob_pos\")\n",
    "compute_diff_max(data, \"TPR\")\n",
    "compute_diff_max(data, \"TNR\")"
   ]
  },
  {
   "cell_type": "code",
   "execution_count": 81,
   "metadata": {},
   "outputs": [],
   "source": [
    "cols = {\n",
    "#     'Clust/Context Accuracy': \"Clust Acc\",\n",
    "#     'Clust/Context NMI': \"Clust NMI\",\n",
    "#     'Clust/Context ARI': \"Clust ARI\",\n",
    "    \"Accuracy (pytorch_classifier)\": \"Accuracy\",\n",
    "#     'prob_pos_colour_0.0÷colour_1.0 (pytorch_classifier)': \"AR ratio\",\n",
    "    \"Renyi preds and s (pytorch_classifier)\": \"Renyi corr\",\n",
    "#     \"TPR_colour_0.0÷colour_1.0 (pytorch_classifier)\": \"TPR ratio\",\n",
    "#     'TNR_colour_0.0÷colour_1.0 (pytorch_classifier)': \"TNR ratio\",\n",
    "    \"prob_pos ratio mean\": \"AR ratio mean\",\n",
    "    \"TPR ratio mean\": \"TPR ratio mean\",\n",
    "    \"TNR ratio mean\": \"TNR ratio mean\",\n",
    "    \"prob_pos ratio min\": \"AR ratio min\",\n",
    "    \"prob_pos diff max\": \"AR diff max\",\n",
    "}"
   ]
  },
  {
   "cell_type": "code",
   "execution_count": 82,
   "metadata": {},
   "outputs": [
    {
     "data": {
      "text/html": [
       "<div>\n",
       "<style scoped>\n",
       "    .dataframe tbody tr th:only-of-type {\n",
       "        vertical-align: middle;\n",
       "    }\n",
       "\n",
       "    .dataframe tbody tr th {\n",
       "        vertical-align: top;\n",
       "    }\n",
       "\n",
       "    .dataframe thead th {\n",
       "        text-align: right;\n",
       "    }\n",
       "</style>\n",
       "<table border=\"1\" class=\"dataframe\">\n",
       "  <thead>\n",
       "    <tr style=\"text-align: right;\">\n",
       "      <th></th>\n",
       "      <th>Method</th>\n",
       "      <th>Accuracy</th>\n",
       "      <th>Renyi corr</th>\n",
       "      <th>AR ratio mean</th>\n",
       "      <th>TPR ratio mean</th>\n",
       "      <th>TNR ratio mean</th>\n",
       "      <th>AR ratio min</th>\n",
       "      <th>AR diff max</th>\n",
       "    </tr>\n",
       "  </thead>\n",
       "  <tbody>\n",
       "    <tr>\n",
       "      <th>0</th>\n",
       "      <td>\\texttt{ZSF}</td>\n",
       "      <td>0.882 $\\pm$ 0.076</td>\n",
       "      <td>0.264 $\\pm$ 0.169</td>\n",
       "      <td>0.725 $\\pm$ 0.15</td>\n",
       "      <td>0.911 $\\pm$ 0.118</td>\n",
       "      <td>0.798 $\\pm$ 0.201</td>\n",
       "      <td>0.604 $\\pm$ 0.213</td>\n",
       "      <td>0.236 $\\pm$ 0.189</td>\n",
       "    </tr>\n",
       "  </tbody>\n",
       "</table>\n",
       "</div>"
      ],
      "text/plain": [
       "         Method           Accuracy         Renyi corr     AR ratio mean  \\\n",
       "0  \\texttt{ZSF}  0.882 $\\pm$ 0.076  0.264 $\\pm$ 0.169  0.725 $\\pm$ 0.15   \n",
       "\n",
       "      TPR ratio mean     TNR ratio mean       AR ratio min        AR diff max  \n",
       "0  0.911 $\\pm$ 0.118  0.798 $\\pm$ 0.201  0.604 $\\pm$ 0.213  0.236 $\\pm$ 0.189  "
      ]
     },
     "execution_count": 82,
     "metadata": {},
     "output_type": "execute_result"
    }
   ],
   "source": [
    "groupby = \"Group\"\n",
    "res = (data[[groupby] + list(cols)]\n",
    "        .groupby([groupby])\n",
    "        .agg(Cell(round_to=3)).rename(columns=cols, inplace=False)\n",
    "        .reset_index(level=[groupby], inplace=False)\n",
    "        .rename(columns={groupby: \"Method\"}, inplace=False)\n",
    "       )\n",
    "res"
   ]
  },
  {
   "cell_type": "code",
   "execution_count": 83,
   "metadata": {},
   "outputs": [],
   "source": [
    "# baseline files\n",
    "baseline_files = {\n",
    "    r\"\\texttt{Kamiran \\& Calders (2012) CNN}\": \"cmnist_cnn_baseline_color_60epochs.csv\",\n",
    "    r\"\\texttt{Kamiran \\& Calders (2012) CNN} (more stable)\": \"bs512_lr1e-3_wd1e-4_cnn_baseline_20epochs.csv\",\n",
    "    r\"\\texttt{FWD \\cite{HasSriNamLia18}}\": \"cmnist_dro_baseline_color_60epochs.csv\",\n",
    "}"
   ]
  },
  {
   "cell_type": "code",
   "execution_count": 84,
   "metadata": {},
   "outputs": [],
   "source": [
    "def collate(file_dict, dir_):\n",
    "    df_all = pd.DataFrame()\n",
    "    for log_method, filename in file_dict.items():\n",
    "        df = pd.read_csv(Path(\"../../results/cmnist/3_digits\") / dir_ / filename)\n",
    "#         df.insert(0, \"exp_group\", exp_group)\n",
    "        df.insert(0, \"log_method\", log_method)\n",
    "        if log_method == r\"\\texttt{FWD \\cite{HasSriNamLia18}}\":\n",
    "            df[\"log_method\"] = log_method + \" (\" + df[\"eta\"].astype(str) + \")\"\n",
    "        df_all = pd.concat([df_all, df], axis=\"index\", ignore_index=True, sort=False)\n",
    "    return df_all"
   ]
  },
  {
   "cell_type": "code",
   "execution_count": 85,
   "metadata": {},
   "outputs": [],
   "source": [
    "baselines = collate(baseline_files, \".\")"
   ]
  },
  {
   "cell_type": "code",
   "execution_count": 86,
   "metadata": {},
   "outputs": [],
   "source": [
    "compute_ratio_means(baselines, \"prob_pos\", \"\")\n",
    "compute_ratio_means(baselines, \"TPR\", \"\")\n",
    "compute_ratio_means(baselines, \"TNR\", \"\")\n",
    "compute_ratio_min(baselines, \"prob_pos\", \"\")\n",
    "compute_ratio_min(baselines, \"TPR\", \"\")\n",
    "compute_ratio_min(baselines, \"TNR\", \"\")\n",
    "compute_diff_max(baselines, \"prob_pos\", \"\")\n",
    "compute_diff_max(baselines, \"TPR\", \"\")\n",
    "compute_diff_max(baselines, \"TNR\", \"\")"
   ]
  },
  {
   "cell_type": "code",
   "execution_count": 87,
   "metadata": {},
   "outputs": [
    {
     "data": {
      "text/plain": [
       "Index(['log_method', 'seed', 'data', 'method', 'wandb_url', 'Accuracy', 'TPR',\n",
       "       'TNR', 'Renyi preds and s', 'Accuracy_colour_2.0',\n",
       "       'Accuracy_colour_1.0', 'Accuracy_colour_0.0',\n",
       "       'Accuracy_colour_0.0-colour_1.0', 'Accuracy_colour_0.0-colour_2.0',\n",
       "       'Accuracy_colour_1.0-colour_2.0', 'Accuracy_colour_0.0÷colour_1.0',\n",
       "       'Accuracy_colour_0.0÷colour_2.0', 'Accuracy_colour_1.0÷colour_2.0',\n",
       "       'prob_pos_colour_2.0', 'prob_pos_colour_1.0', 'prob_pos_colour_0.0',\n",
       "       'prob_pos_colour_0.0-colour_1.0', 'prob_pos_colour_0.0-colour_2.0',\n",
       "       'prob_pos_colour_1.0-colour_2.0', 'prob_pos_colour_0.0÷colour_1.0',\n",
       "       'prob_pos_colour_0.0÷colour_2.0', 'prob_pos_colour_1.0÷colour_2.0',\n",
       "       'TPR_colour_2.0', 'TPR_colour_1.0', 'TPR_colour_0.0',\n",
       "       'TPR_colour_0.0-colour_1.0', 'TPR_colour_0.0-colour_2.0',\n",
       "       'TPR_colour_1.0-colour_2.0', 'TPR_colour_0.0÷colour_1.0',\n",
       "       'TPR_colour_0.0÷colour_2.0', 'TPR_colour_1.0÷colour_2.0',\n",
       "       'TNR_colour_2.0', 'TNR_colour_1.0', 'TNR_colour_0.0',\n",
       "       'TNR_colour_0.0-colour_1.0', 'TNR_colour_0.0-colour_2.0',\n",
       "       'TNR_colour_1.0-colour_2.0', 'TNR_colour_0.0÷colour_1.0',\n",
       "       'TNR_colour_0.0÷colour_2.0', 'TNR_colour_1.0÷colour_2.0', 'eta',\n",
       "       'prob_pos ratio mean', 'TPR ratio mean', 'TNR ratio mean',\n",
       "       'prob_pos ratio min', 'TPR ratio min', 'TNR ratio min',\n",
       "       'prob_pos diff max', 'TPR diff max', 'TNR diff max'],\n",
       "      dtype='object')"
      ]
     },
     "execution_count": 87,
     "metadata": {},
     "output_type": "execute_result"
    }
   ],
   "source": [
    "baselines.columns"
   ]
  },
  {
   "cell_type": "code",
   "execution_count": 92,
   "metadata": {},
   "outputs": [],
   "source": [
    "bl_cols = {\n",
    "#     'Clust/Context Accuracy': \"Clust Acc\",\n",
    "#     'Clust/Context NMI': \"Clust NMI\",\n",
    "#     'Clust/Context ARI': \"Clust ARI\",\n",
    "    \"Accuracy\": \"Accuracy\",\n",
    "#     'prob_pos_colour_0.0÷colour_1.0': \"AR ratio\",\n",
    "    \"Renyi preds and s\": \"Renyi corr\",\n",
    "#     \"TPR_colour_0.0÷colour_1.0\": \"TPR ratio\",\n",
    "#     'TNR_colour_0.0÷colour_1.0': \"TNR ratio\",\n",
    "    \"prob_pos ratio mean\": \"AR, mean ratio\",\n",
    "    \"TPR ratio mean\": \"TPR, mean ratio\",\n",
    "    \"TNR ratio mean\": \"TNR, mean ratio\",\n",
    "    \"prob_pos ratio min\": \"AR, minimum ratio\",\n",
    "    \"prob_pos diff max\": \"AR, maximum diff\",\n",
    "}"
   ]
  },
  {
   "cell_type": "code",
   "execution_count": 93,
   "metadata": {},
   "outputs": [
    {
     "data": {
      "text/html": [
       "<div>\n",
       "<style scoped>\n",
       "    .dataframe tbody tr th:only-of-type {\n",
       "        vertical-align: middle;\n",
       "    }\n",
       "\n",
       "    .dataframe tbody tr th {\n",
       "        vertical-align: top;\n",
       "    }\n",
       "\n",
       "    .dataframe thead th {\n",
       "        text-align: right;\n",
       "    }\n",
       "</style>\n",
       "<table border=\"1\" class=\"dataframe\">\n",
       "  <thead>\n",
       "    <tr style=\"text-align: right;\">\n",
       "      <th></th>\n",
       "      <th>Method</th>\n",
       "      <th>Accuracy</th>\n",
       "      <th>Renyi corr</th>\n",
       "      <th>AR, mean ratio</th>\n",
       "      <th>TPR, mean ratio</th>\n",
       "      <th>TNR, mean ratio</th>\n",
       "      <th>AR, minimum ratio</th>\n",
       "      <th>AR, maximum diff</th>\n",
       "    </tr>\n",
       "  </thead>\n",
       "  <tbody>\n",
       "    <tr>\n",
       "      <th>0</th>\n",
       "      <td>\\texttt{FWD \\cite{HasSriNamLia18}} (0.01)</td>\n",
       "      <td>0.58 $\\pm$ 0.035</td>\n",
       "      <td>0.843 $\\pm$ 0.034</td>\n",
       "      <td>0.125 $\\pm$ 0.033</td>\n",
       "      <td>0.347 $\\pm$ 0.04</td>\n",
       "      <td>0.37 $\\pm$ 0.058</td>\n",
       "      <td>0.009 $\\pm$ 0.023</td>\n",
       "      <td>0.954 $\\pm$ 0.071</td>\n",
       "    </tr>\n",
       "    <tr>\n",
       "      <th>1</th>\n",
       "      <td>\\texttt{FWD \\cite{HasSriNamLia18}} (0.1)</td>\n",
       "      <td>0.61 $\\pm$ 0.059</td>\n",
       "      <td>0.8 $\\pm$ 0.072</td>\n",
       "      <td>0.15 $\\pm$ 0.066</td>\n",
       "      <td>0.367 $\\pm$ 0.09</td>\n",
       "      <td>0.434 $\\pm$ 0.11</td>\n",
       "      <td>0.022 $\\pm$ 0.049</td>\n",
       "      <td>0.878 $\\pm$ 0.123</td>\n",
       "    </tr>\n",
       "    <tr>\n",
       "      <th>2</th>\n",
       "      <td>\\texttt{FWD \\cite{HasSriNamLia18}} (0.3)</td>\n",
       "      <td>0.619 $\\pm$ 0.044</td>\n",
       "      <td>0.803 $\\pm$ 0.047</td>\n",
       "      <td>0.157 $\\pm$ 0.066</td>\n",
       "      <td>0.383 $\\pm$ 0.097</td>\n",
       "      <td>0.418 $\\pm$ 0.098</td>\n",
       "      <td>0.027 $\\pm$ 0.05</td>\n",
       "      <td>0.887 $\\pm$ 0.101</td>\n",
       "    </tr>\n",
       "    <tr>\n",
       "      <th>3</th>\n",
       "      <td>\\texttt{FWD \\cite{HasSriNamLia18}} (1.0)</td>\n",
       "      <td>0.578 $\\pm$ 0.043</td>\n",
       "      <td>0.831 $\\pm$ 0.051</td>\n",
       "      <td>0.143 $\\pm$ 0.08</td>\n",
       "      <td>0.353 $\\pm$ 0.111</td>\n",
       "      <td>0.414 $\\pm$ 0.121</td>\n",
       "      <td>0.016 $\\pm$ 0.059</td>\n",
       "      <td>0.9 $\\pm$ 0.127</td>\n",
       "    </tr>\n",
       "    <tr>\n",
       "      <th>4</th>\n",
       "      <td>\\texttt{Kamiran \\&amp; Calders (2012) CNN}</td>\n",
       "      <td>0.627 $\\pm$ 0.054</td>\n",
       "      <td>0.784 $\\pm$ 0.069</td>\n",
       "      <td>0.208 $\\pm$ 0.1</td>\n",
       "      <td>0.471 $\\pm$ 0.145</td>\n",
       "      <td>0.359 $\\pm$ 0.036</td>\n",
       "      <td>0.072 $\\pm$ 0.077</td>\n",
       "      <td>0.904 $\\pm$ 0.087</td>\n",
       "    </tr>\n",
       "    <tr>\n",
       "      <th>5</th>\n",
       "      <td>\\texttt{Kamiran \\&amp; Calders (2012) CNN} (more s...</td>\n",
       "      <td>0.563 $\\pm$ 0.017</td>\n",
       "      <td>0.857 $\\pm$ 0.011</td>\n",
       "      <td>0.113 $\\pm$ 0.007</td>\n",
       "      <td>0.333 $\\pm$ 0.003</td>\n",
       "      <td>0.35 $\\pm$ 0.035</td>\n",
       "      <td>0.0009 $\\pm$ 0.0016</td>\n",
       "      <td>0.981 $\\pm$ 0.035</td>\n",
       "    </tr>\n",
       "  </tbody>\n",
       "</table>\n",
       "</div>"
      ],
      "text/plain": [
       "                                              Method           Accuracy  \\\n",
       "0          \\texttt{FWD \\cite{HasSriNamLia18}} (0.01)   0.58 $\\pm$ 0.035   \n",
       "1           \\texttt{FWD \\cite{HasSriNamLia18}} (0.1)   0.61 $\\pm$ 0.059   \n",
       "2           \\texttt{FWD \\cite{HasSriNamLia18}} (0.3)  0.619 $\\pm$ 0.044   \n",
       "3           \\texttt{FWD \\cite{HasSriNamLia18}} (1.0)  0.578 $\\pm$ 0.043   \n",
       "4             \\texttt{Kamiran \\& Calders (2012) CNN}  0.627 $\\pm$ 0.054   \n",
       "5  \\texttt{Kamiran \\& Calders (2012) CNN} (more s...  0.563 $\\pm$ 0.017   \n",
       "\n",
       "          Renyi corr     AR, mean ratio    TPR, mean ratio    TNR, mean ratio  \\\n",
       "0  0.843 $\\pm$ 0.034  0.125 $\\pm$ 0.033   0.347 $\\pm$ 0.04   0.37 $\\pm$ 0.058   \n",
       "1    0.8 $\\pm$ 0.072   0.15 $\\pm$ 0.066   0.367 $\\pm$ 0.09   0.434 $\\pm$ 0.11   \n",
       "2  0.803 $\\pm$ 0.047  0.157 $\\pm$ 0.066  0.383 $\\pm$ 0.097  0.418 $\\pm$ 0.098   \n",
       "3  0.831 $\\pm$ 0.051   0.143 $\\pm$ 0.08  0.353 $\\pm$ 0.111  0.414 $\\pm$ 0.121   \n",
       "4  0.784 $\\pm$ 0.069    0.208 $\\pm$ 0.1  0.471 $\\pm$ 0.145  0.359 $\\pm$ 0.036   \n",
       "5  0.857 $\\pm$ 0.011  0.113 $\\pm$ 0.007  0.333 $\\pm$ 0.003   0.35 $\\pm$ 0.035   \n",
       "\n",
       "     AR, minimum ratio   AR, maximum diff  \n",
       "0    0.009 $\\pm$ 0.023  0.954 $\\pm$ 0.071  \n",
       "1    0.022 $\\pm$ 0.049  0.878 $\\pm$ 0.123  \n",
       "2     0.027 $\\pm$ 0.05  0.887 $\\pm$ 0.101  \n",
       "3    0.016 $\\pm$ 0.059    0.9 $\\pm$ 0.127  \n",
       "4    0.072 $\\pm$ 0.077  0.904 $\\pm$ 0.087  \n",
       "5  0.0009 $\\pm$ 0.0016  0.981 $\\pm$ 0.035  "
      ]
     },
     "execution_count": 93,
     "metadata": {},
     "output_type": "execute_result"
    }
   ],
   "source": [
    "groupby = \"log_method\"\n",
    "res2 = (baselines[[groupby] + list(bl_cols)]\n",
    "        .groupby([groupby])\n",
    "        .agg(Cell(round_to=3)).rename(columns=bl_cols, inplace=False)\n",
    "        .reset_index(level=[groupby], inplace=False)\n",
    "        .rename(columns={groupby: \"Method\"}, inplace=False)\n",
    "       )\n",
    "res2"
   ]
  },
  {
   "cell_type": "code",
   "execution_count": 90,
   "metadata": {},
   "outputs": [
    {
     "data": {
      "text/html": [
       "<div>\n",
       "<style scoped>\n",
       "    .dataframe tbody tr th:only-of-type {\n",
       "        vertical-align: middle;\n",
       "    }\n",
       "\n",
       "    .dataframe tbody tr th {\n",
       "        vertical-align: top;\n",
       "    }\n",
       "\n",
       "    .dataframe thead th {\n",
       "        text-align: right;\n",
       "    }\n",
       "</style>\n",
       "<table border=\"1\" class=\"dataframe\">\n",
       "  <thead>\n",
       "    <tr style=\"text-align: right;\">\n",
       "      <th></th>\n",
       "      <th>Method</th>\n",
       "      <th>Accuracy</th>\n",
       "      <th>Renyi corr</th>\n",
       "      <th>AR ratio mean</th>\n",
       "      <th>TPR ratio mean</th>\n",
       "      <th>TNR ratio mean</th>\n",
       "      <th>AR ratio min</th>\n",
       "      <th>AR diff max</th>\n",
       "    </tr>\n",
       "  </thead>\n",
       "  <tbody>\n",
       "    <tr>\n",
       "      <th>0</th>\n",
       "      <td>\\texttt{ZSF}</td>\n",
       "      <td>0.882 $\\pm$ 0.076</td>\n",
       "      <td>0.264 $\\pm$ 0.169</td>\n",
       "      <td>0.725 $\\pm$ 0.15</td>\n",
       "      <td>0.911 $\\pm$ 0.118</td>\n",
       "      <td>0.798 $\\pm$ 0.201</td>\n",
       "      <td>0.604 $\\pm$ 0.213</td>\n",
       "      <td>0.236 $\\pm$ 0.189</td>\n",
       "    </tr>\n",
       "    <tr>\n",
       "      <th>1</th>\n",
       "      <td>\\texttt{FWD \\cite{HasSriNamLia18}} (0.01)</td>\n",
       "      <td>0.58 $\\pm$ 0.035</td>\n",
       "      <td>0.843 $\\pm$ 0.034</td>\n",
       "      <td>0.125 $\\pm$ 0.033</td>\n",
       "      <td>0.347 $\\pm$ 0.04</td>\n",
       "      <td>0.37 $\\pm$ 0.058</td>\n",
       "      <td>0.009 $\\pm$ 0.023</td>\n",
       "      <td>0.954 $\\pm$ 0.071</td>\n",
       "    </tr>\n",
       "    <tr>\n",
       "      <th>2</th>\n",
       "      <td>\\texttt{FWD \\cite{HasSriNamLia18}} (0.1)</td>\n",
       "      <td>0.61 $\\pm$ 0.059</td>\n",
       "      <td>0.8 $\\pm$ 0.072</td>\n",
       "      <td>0.15 $\\pm$ 0.066</td>\n",
       "      <td>0.367 $\\pm$ 0.09</td>\n",
       "      <td>0.434 $\\pm$ 0.11</td>\n",
       "      <td>0.022 $\\pm$ 0.049</td>\n",
       "      <td>0.878 $\\pm$ 0.123</td>\n",
       "    </tr>\n",
       "    <tr>\n",
       "      <th>3</th>\n",
       "      <td>\\texttt{FWD \\cite{HasSriNamLia18}} (0.3)</td>\n",
       "      <td>0.619 $\\pm$ 0.044</td>\n",
       "      <td>0.803 $\\pm$ 0.047</td>\n",
       "      <td>0.157 $\\pm$ 0.066</td>\n",
       "      <td>0.383 $\\pm$ 0.097</td>\n",
       "      <td>0.418 $\\pm$ 0.098</td>\n",
       "      <td>0.027 $\\pm$ 0.05</td>\n",
       "      <td>0.887 $\\pm$ 0.101</td>\n",
       "    </tr>\n",
       "    <tr>\n",
       "      <th>4</th>\n",
       "      <td>\\texttt{FWD \\cite{HasSriNamLia18}} (1.0)</td>\n",
       "      <td>0.578 $\\pm$ 0.043</td>\n",
       "      <td>0.831 $\\pm$ 0.051</td>\n",
       "      <td>0.143 $\\pm$ 0.08</td>\n",
       "      <td>0.353 $\\pm$ 0.111</td>\n",
       "      <td>0.414 $\\pm$ 0.121</td>\n",
       "      <td>0.016 $\\pm$ 0.059</td>\n",
       "      <td>0.9 $\\pm$ 0.127</td>\n",
       "    </tr>\n",
       "    <tr>\n",
       "      <th>5</th>\n",
       "      <td>\\texttt{Kamiran \\&amp; Calders (2012) CNN}</td>\n",
       "      <td>0.627 $\\pm$ 0.054</td>\n",
       "      <td>0.784 $\\pm$ 0.069</td>\n",
       "      <td>0.208 $\\pm$ 0.1</td>\n",
       "      <td>0.471 $\\pm$ 0.145</td>\n",
       "      <td>0.359 $\\pm$ 0.036</td>\n",
       "      <td>0.072 $\\pm$ 0.077</td>\n",
       "      <td>0.904 $\\pm$ 0.087</td>\n",
       "    </tr>\n",
       "    <tr>\n",
       "      <th>6</th>\n",
       "      <td>\\texttt{Kamiran \\&amp; Calders (2012) CNN} (more s...</td>\n",
       "      <td>0.563 $\\pm$ 0.017</td>\n",
       "      <td>0.857 $\\pm$ 0.011</td>\n",
       "      <td>0.113 $\\pm$ 0.007</td>\n",
       "      <td>0.333 $\\pm$ 0.003</td>\n",
       "      <td>0.35 $\\pm$ 0.035</td>\n",
       "      <td>0.0009 $\\pm$ 0.0016</td>\n",
       "      <td>0.981 $\\pm$ 0.035</td>\n",
       "    </tr>\n",
       "  </tbody>\n",
       "</table>\n",
       "</div>"
      ],
      "text/plain": [
       "                                              Method           Accuracy  \\\n",
       "0                                       \\texttt{ZSF}  0.882 $\\pm$ 0.076   \n",
       "1          \\texttt{FWD \\cite{HasSriNamLia18}} (0.01)   0.58 $\\pm$ 0.035   \n",
       "2           \\texttt{FWD \\cite{HasSriNamLia18}} (0.1)   0.61 $\\pm$ 0.059   \n",
       "3           \\texttt{FWD \\cite{HasSriNamLia18}} (0.3)  0.619 $\\pm$ 0.044   \n",
       "4           \\texttt{FWD \\cite{HasSriNamLia18}} (1.0)  0.578 $\\pm$ 0.043   \n",
       "5             \\texttt{Kamiran \\& Calders (2012) CNN}  0.627 $\\pm$ 0.054   \n",
       "6  \\texttt{Kamiran \\& Calders (2012) CNN} (more s...  0.563 $\\pm$ 0.017   \n",
       "\n",
       "          Renyi corr      AR ratio mean     TPR ratio mean     TNR ratio mean  \\\n",
       "0  0.264 $\\pm$ 0.169   0.725 $\\pm$ 0.15  0.911 $\\pm$ 0.118  0.798 $\\pm$ 0.201   \n",
       "1  0.843 $\\pm$ 0.034  0.125 $\\pm$ 0.033   0.347 $\\pm$ 0.04   0.37 $\\pm$ 0.058   \n",
       "2    0.8 $\\pm$ 0.072   0.15 $\\pm$ 0.066   0.367 $\\pm$ 0.09   0.434 $\\pm$ 0.11   \n",
       "3  0.803 $\\pm$ 0.047  0.157 $\\pm$ 0.066  0.383 $\\pm$ 0.097  0.418 $\\pm$ 0.098   \n",
       "4  0.831 $\\pm$ 0.051   0.143 $\\pm$ 0.08  0.353 $\\pm$ 0.111  0.414 $\\pm$ 0.121   \n",
       "5  0.784 $\\pm$ 0.069    0.208 $\\pm$ 0.1  0.471 $\\pm$ 0.145  0.359 $\\pm$ 0.036   \n",
       "6  0.857 $\\pm$ 0.011  0.113 $\\pm$ 0.007  0.333 $\\pm$ 0.003   0.35 $\\pm$ 0.035   \n",
       "\n",
       "          AR ratio min        AR diff max  \n",
       "0    0.604 $\\pm$ 0.213  0.236 $\\pm$ 0.189  \n",
       "1    0.009 $\\pm$ 0.023  0.954 $\\pm$ 0.071  \n",
       "2    0.022 $\\pm$ 0.049  0.878 $\\pm$ 0.123  \n",
       "3     0.027 $\\pm$ 0.05  0.887 $\\pm$ 0.101  \n",
       "4    0.016 $\\pm$ 0.059    0.9 $\\pm$ 0.127  \n",
       "5    0.072 $\\pm$ 0.077  0.904 $\\pm$ 0.087  \n",
       "6  0.0009 $\\pm$ 0.0016  0.981 $\\pm$ 0.035  "
      ]
     },
     "execution_count": 90,
     "metadata": {},
     "output_type": "execute_result"
    }
   ],
   "source": [
    "table = pd.concat([res, res2]).reset_index(drop=True)\n",
    "table"
   ]
  },
  {
   "cell_type": "code",
   "execution_count": 91,
   "metadata": {},
   "outputs": [
    {
     "name": "stdout",
     "output_type": "stream",
     "text": [
      "\\begin{tabular}{llllllll}\n",
      "\\toprule\n",
      "                                            Method &           Accuracy &         Renyi corr &      AR ratio mean &     TPR ratio mean &     TNR ratio mean &         AR ratio min &        AR diff max \\\\\n",
      "\\midrule\n",
      "                                      \\texttt{ZSF} &  0.882 $\\pm$ 0.076 &  0.264 $\\pm$ 0.169 &   0.725 $\\pm$ 0.15 &  0.911 $\\pm$ 0.118 &  0.798 $\\pm$ 0.201 &    0.604 $\\pm$ 0.213 &  0.236 $\\pm$ 0.189 \\\\\n",
      "         \\texttt{FWD \\cite{HasSriNamLia18}} (0.01) &   0.58 $\\pm$ 0.035 &  0.843 $\\pm$ 0.034 &  0.125 $\\pm$ 0.033 &   0.347 $\\pm$ 0.04 &   0.37 $\\pm$ 0.058 &    0.009 $\\pm$ 0.023 &  0.954 $\\pm$ 0.071 \\\\\n",
      "          \\texttt{FWD \\cite{HasSriNamLia18}} (0.1) &   0.61 $\\pm$ 0.059 &    0.8 $\\pm$ 0.072 &   0.15 $\\pm$ 0.066 &   0.367 $\\pm$ 0.09 &   0.434 $\\pm$ 0.11 &    0.022 $\\pm$ 0.049 &  0.878 $\\pm$ 0.123 \\\\\n",
      "          \\texttt{FWD \\cite{HasSriNamLia18}} (0.3) &  0.619 $\\pm$ 0.044 &  0.803 $\\pm$ 0.047 &  0.157 $\\pm$ 0.066 &  0.383 $\\pm$ 0.097 &  0.418 $\\pm$ 0.098 &     0.027 $\\pm$ 0.05 &  0.887 $\\pm$ 0.101 \\\\\n",
      "          \\texttt{FWD \\cite{HasSriNamLia18}} (1.0) &  0.578 $\\pm$ 0.043 &  0.831 $\\pm$ 0.051 &   0.143 $\\pm$ 0.08 &  0.353 $\\pm$ 0.111 &  0.414 $\\pm$ 0.121 &    0.016 $\\pm$ 0.059 &    0.9 $\\pm$ 0.127 \\\\\n",
      "            \\texttt{Kamiran \\& Calders (2012) CNN} &  0.627 $\\pm$ 0.054 &  0.784 $\\pm$ 0.069 &    0.208 $\\pm$ 0.1 &  0.471 $\\pm$ 0.145 &  0.359 $\\pm$ 0.036 &    0.072 $\\pm$ 0.077 &  0.904 $\\pm$ 0.087 \\\\\n",
      " \\texttt{Kamiran \\& Calders (2012) CNN} (more s... &  0.563 $\\pm$ 0.017 &  0.857 $\\pm$ 0.011 &  0.113 $\\pm$ 0.007 &  0.333 $\\pm$ 0.003 &   0.35 $\\pm$ 0.035 &  0.0009 $\\pm$ 0.0016 &  0.981 $\\pm$ 0.035 \\\\\n",
      "\\bottomrule\n",
      "\\end{tabular}\n",
      "\n"
     ]
    }
   ],
   "source": [
    "print(table.to_latex(index=False, escape=False))"
   ]
  },
  {
   "cell_type": "code",
   "execution_count": null,
   "metadata": {},
   "outputs": [],
   "source": []
  },
  {
   "cell_type": "code",
   "execution_count": null,
   "metadata": {},
   "outputs": [],
   "source": []
  }
 ],
 "metadata": {
  "kernelspec": {
   "display_name": "Python 3",
   "language": "python",
   "name": "python3"
  },
  "language_info": {
   "codemirror_mode": {
    "name": "ipython",
    "version": 3
   },
   "file_extension": ".py",
   "mimetype": "text/x-python",
   "name": "python",
   "nbconvert_exporter": "python",
   "pygments_lexer": "ipython3",
   "version": "3.8.2"
  }
 },
 "nbformat": 4,
 "nbformat_minor": 4
}
