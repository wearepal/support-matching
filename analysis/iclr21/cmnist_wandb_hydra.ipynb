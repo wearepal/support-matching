{
 "cells": [
  {
   "cell_type": "code",
   "execution_count": 1,
   "metadata": {},
   "outputs": [],
   "source": [
    "from pathlib import Path\n",
    "import pandas as pd\n",
    "import numpy as np"
   ]
  },
  {
   "cell_type": "code",
   "execution_count": 2,
   "metadata": {},
   "outputs": [],
   "source": [
    "from utils import generate_table, Cell, to_latex, merge_cols"
   ]
  },
  {
   "cell_type": "code",
   "execution_count": 5,
   "metadata": {},
   "outputs": [],
   "source": [
    "data = pd.read_csv(\"../../results/cmnist/3_digits/first_decent_results.csv\")"
   ]
  },
  {
   "cell_type": "code",
   "execution_count": 6,
   "metadata": {},
   "outputs": [
    {
     "data": {
      "text/plain": [
       ".same_as_for2.zs2.even_longer.3dig_4miss    30\n",
       "Name: Group, dtype: int64"
      ]
     },
     "execution_count": 6,
     "metadata": {},
     "output_type": "execute_result"
    }
   ],
   "source": [
    "data[\"Group\"].value_counts()"
   ]
  },
  {
   "cell_type": "code",
   "execution_count": 7,
   "metadata": {},
   "outputs": [],
   "source": [
    "data = data.replace({\"Group\": {\n",
    "    \".same_as_for2.zs2.even_longer.3dig_4miss\": \"no cluster\",\n",
    "}}, inplace=False)"
   ]
  },
  {
   "cell_type": "code",
   "execution_count": 10,
   "metadata": {},
   "outputs": [
    {
     "data": {
      "text/plain": [
       "Index(['Name', 'misc.seed', 'Runtime', 'Group', 'Hostname', 'State',\n",
       "       'bias.log_dataset', 'fdm.balanced_context', 'fdm.lr',\n",
       "       'misc.data_split_seed', 'misc.exp_group', 'misc.log_method',\n",
       "       'Accuracy (pytorch_classifier)', 'Accuracy Discriminator (zy)',\n",
       "       'Accuracy Predictor s', 'Accuracy Predictor y',\n",
       "       'Accuracy_colour_0.0 (pytorch_classifier)',\n",
       "       'Accuracy_colour_0.0-colour_1.0 (pytorch_classifier)',\n",
       "       'Accuracy_colour_0.0-colour_2.0 (pytorch_classifier)',\n",
       "       'Accuracy_colour_0.0÷colour_1.0 (pytorch_classifier)',\n",
       "       'Accuracy_colour_0.0÷colour_2.0 (pytorch_classifier)',\n",
       "       'Accuracy_colour_1.0 (pytorch_classifier)',\n",
       "       'Accuracy_colour_1.0-colour_2.0 (pytorch_classifier)',\n",
       "       'Accuracy_colour_1.0÷colour_2.0 (pytorch_classifier)',\n",
       "       'Accuracy_colour_2.0 (pytorch_classifier)', 'ELBO', 'Learning rate',\n",
       "       'Loss Adversarial', 'Loss Generator', 'Loss Predictor s',\n",
       "       'Loss Predictor y', 'Loss reconstruction', 'Prior Loss',\n",
       "       'Renyi preds and s (pytorch_classifier)', 'TNR (pytorch_classifier)',\n",
       "       'TNR_colour_0.0 (pytorch_classifier)',\n",
       "       'TNR_colour_0.0-colour_1.0 (pytorch_classifier)',\n",
       "       'TNR_colour_0.0-colour_2.0 (pytorch_classifier)',\n",
       "       'TNR_colour_0.0÷colour_1.0 (pytorch_classifier)',\n",
       "       'TNR_colour_0.0÷colour_2.0 (pytorch_classifier)',\n",
       "       'TNR_colour_1.0 (pytorch_classifier)',\n",
       "       'TNR_colour_1.0-colour_2.0 (pytorch_classifier)',\n",
       "       'TNR_colour_1.0÷colour_2.0 (pytorch_classifier)',\n",
       "       'TNR_colour_2.0 (pytorch_classifier)', 'TPR (pytorch_classifier)',\n",
       "       'TPR_colour_0.0 (pytorch_classifier)',\n",
       "       'TPR_colour_0.0-colour_1.0 (pytorch_classifier)',\n",
       "       'TPR_colour_0.0-colour_2.0 (pytorch_classifier)',\n",
       "       'TPR_colour_0.0÷colour_1.0 (pytorch_classifier)',\n",
       "       'TPR_colour_0.0÷colour_2.0 (pytorch_classifier)',\n",
       "       'TPR_colour_1.0 (pytorch_classifier)',\n",
       "       'TPR_colour_1.0-colour_2.0 (pytorch_classifier)',\n",
       "       'TPR_colour_1.0÷colour_2.0 (pytorch_classifier)',\n",
       "       'TPR_colour_2.0 (pytorch_classifier)',\n",
       "       'prob_pos_colour_0.0 (pytorch_classifier)',\n",
       "       'prob_pos_colour_0.0-colour_1.0 (pytorch_classifier)',\n",
       "       'prob_pos_colour_0.0-colour_2.0 (pytorch_classifier)',\n",
       "       'prob_pos_colour_0.0÷colour_1.0 (pytorch_classifier)',\n",
       "       'prob_pos_colour_0.0÷colour_2.0 (pytorch_classifier)',\n",
       "       'prob_pos_colour_1.0 (pytorch_classifier)',\n",
       "       'prob_pos_colour_1.0-colour_2.0 (pytorch_classifier)',\n",
       "       'prob_pos_colour_1.0÷colour_2.0 (pytorch_classifier)',\n",
       "       'prob_pos_colour_2.0 (pytorch_classifier)'],\n",
       "      dtype='object')"
      ]
     },
     "execution_count": 10,
     "metadata": {},
     "output_type": "execute_result"
    }
   ],
   "source": [
    "data.columns"
   ]
  },
  {
   "cell_type": "code",
   "execution_count": 13,
   "metadata": {},
   "outputs": [],
   "source": [
    "cols = {\n",
    "#     'Clust/Context Accuracy': \"Clust Acc\",\n",
    "#     'Clust/Context NMI': \"Clust NMI\",\n",
    "#     'Clust/Context ARI': \"Clust ARI\",\n",
    "    \"Accuracy (pytorch_classifier)\": \"Accuracy\",\n",
    "    'prob_pos_colour_0.0÷colour_1.0 (pytorch_classifier)': \"AR ratio\",\n",
    "    \"Renyi preds and s (pytorch_classifier)\": \"Renyi corr\",\n",
    "    \"TPR_colour_0.0÷colour_1.0 (pytorch_classifier)\": \"TPR ratio\",\n",
    "    'TNR_colour_0.0÷colour_1.0 (pytorch_classifier)': \"TNR ratio\",\n",
    "}"
   ]
  },
  {
   "cell_type": "code",
   "execution_count": 17,
   "metadata": {},
   "outputs": [
    {
     "data": {
      "text/html": [
       "<div>\n",
       "<style scoped>\n",
       "    .dataframe tbody tr th:only-of-type {\n",
       "        vertical-align: middle;\n",
       "    }\n",
       "\n",
       "    .dataframe tbody tr th {\n",
       "        vertical-align: top;\n",
       "    }\n",
       "\n",
       "    .dataframe thead th {\n",
       "        text-align: right;\n",
       "    }\n",
       "</style>\n",
       "<table border=\"1\" class=\"dataframe\">\n",
       "  <thead>\n",
       "    <tr style=\"text-align: right;\">\n",
       "      <th></th>\n",
       "      <th>Method</th>\n",
       "      <th>Accuracy</th>\n",
       "      <th>AR ratio</th>\n",
       "      <th>Renyi corr</th>\n",
       "      <th>TPR ratio</th>\n",
       "      <th>TNR ratio</th>\n",
       "    </tr>\n",
       "  </thead>\n",
       "  <tbody>\n",
       "    <tr>\n",
       "      <th>0</th>\n",
       "      <td>no cluster</td>\n",
       "      <td>0.882 $\\pm$ 0.076</td>\n",
       "      <td>0.7 $\\pm$ 0.213</td>\n",
       "      <td>0.264 $\\pm$ 0.169</td>\n",
       "      <td>0.993 $\\pm$ 0.009</td>\n",
       "      <td>0.703 $\\pm$ 0.292</td>\n",
       "    </tr>\n",
       "  </tbody>\n",
       "</table>\n",
       "</div>"
      ],
      "text/plain": [
       "       Method           Accuracy         AR ratio         Renyi corr  \\\n",
       "0  no cluster  0.882 $\\pm$ 0.076  0.7 $\\pm$ 0.213  0.264 $\\pm$ 0.169   \n",
       "\n",
       "           TPR ratio          TNR ratio  \n",
       "0  0.993 $\\pm$ 0.009  0.703 $\\pm$ 0.292  "
      ]
     },
     "execution_count": 17,
     "metadata": {},
     "output_type": "execute_result"
    }
   ],
   "source": [
    "groupby = \"Group\"\n",
    "res = (data[[groupby] + list(cols)]\n",
    "        .groupby([groupby])\n",
    "        .agg(Cell(round_to=3)).rename(columns=cols, inplace=False)\n",
    "        .reset_index(level=[groupby], inplace=False)\n",
    "        .rename(columns={groupby: \"Method\"}, inplace=False)\n",
    "       )\n",
    "res"
   ]
  },
  {
   "cell_type": "code",
   "execution_count": 19,
   "metadata": {},
   "outputs": [],
   "source": [
    "# baseline files\n",
    "baseline_files = {\n",
    "    \"CNN\": \"cmnist_cnn_baseline_color_60epochs.csv\",\n",
    "}"
   ]
  },
  {
   "cell_type": "code",
   "execution_count": 20,
   "metadata": {},
   "outputs": [],
   "source": [
    "def collate(file_dict, dir_):\n",
    "    df_all = pd.DataFrame()\n",
    "    for log_method, filename in file_dict.items():\n",
    "        df = pd.read_csv(Path(\"../../results/cmnist/3_digits\") / dir_ / filename)\n",
    "#         df.insert(0, \"exp_group\", exp_group)\n",
    "        df.insert(0, \"log_method\", log_method)\n",
    "        if log_method == \"DRO\":\n",
    "            df[\"log_method\"] = df[\"log_method\"] + \" (\" + df[\"eta\"].astype(str) + \")\"\n",
    "        df_all = pd.concat([df_all, df], axis=\"index\", ignore_index=True, sort=False)\n",
    "    return df_all"
   ]
  },
  {
   "cell_type": "code",
   "execution_count": 21,
   "metadata": {},
   "outputs": [],
   "source": [
    "baselines = collate(baseline_files, \".\")"
   ]
  },
  {
   "cell_type": "code",
   "execution_count": 22,
   "metadata": {},
   "outputs": [
    {
     "data": {
      "text/plain": [
       "Index(['log_method', 'seed', 'data', 'method', 'wandb_url', 'Accuracy', 'TPR',\n",
       "       'TNR', 'Renyi preds and s', 'Accuracy_colour_2.0',\n",
       "       'Accuracy_colour_1.0', 'Accuracy_colour_0.0',\n",
       "       'Accuracy_colour_0.0-colour_1.0', 'Accuracy_colour_0.0-colour_2.0',\n",
       "       'Accuracy_colour_1.0-colour_2.0', 'Accuracy_colour_0.0÷colour_1.0',\n",
       "       'Accuracy_colour_0.0÷colour_2.0', 'Accuracy_colour_1.0÷colour_2.0',\n",
       "       'prob_pos_colour_2.0', 'prob_pos_colour_1.0', 'prob_pos_colour_0.0',\n",
       "       'prob_pos_colour_0.0-colour_1.0', 'prob_pos_colour_0.0-colour_2.0',\n",
       "       'prob_pos_colour_1.0-colour_2.0', 'prob_pos_colour_0.0÷colour_1.0',\n",
       "       'prob_pos_colour_0.0÷colour_2.0', 'prob_pos_colour_1.0÷colour_2.0',\n",
       "       'TPR_colour_2.0', 'TPR_colour_1.0', 'TPR_colour_0.0',\n",
       "       'TPR_colour_0.0-colour_1.0', 'TPR_colour_0.0-colour_2.0',\n",
       "       'TPR_colour_1.0-colour_2.0', 'TPR_colour_0.0÷colour_1.0',\n",
       "       'TPR_colour_0.0÷colour_2.0', 'TPR_colour_1.0÷colour_2.0',\n",
       "       'TNR_colour_2.0', 'TNR_colour_1.0', 'TNR_colour_0.0',\n",
       "       'TNR_colour_0.0-colour_1.0', 'TNR_colour_0.0-colour_2.0',\n",
       "       'TNR_colour_1.0-colour_2.0', 'TNR_colour_0.0÷colour_1.0',\n",
       "       'TNR_colour_0.0÷colour_2.0', 'TNR_colour_1.0÷colour_2.0'],\n",
       "      dtype='object')"
      ]
     },
     "execution_count": 22,
     "metadata": {},
     "output_type": "execute_result"
    }
   ],
   "source": [
    "baselines.columns"
   ]
  },
  {
   "cell_type": "code",
   "execution_count": 24,
   "metadata": {},
   "outputs": [],
   "source": [
    "bl_cols = {\n",
    "#     'Clust/Context Accuracy': \"Clust Acc\",\n",
    "#     'Clust/Context NMI': \"Clust NMI\",\n",
    "#     'Clust/Context ARI': \"Clust ARI\",\n",
    "    \"Accuracy\": \"Accuracy\",\n",
    "    'prob_pos_colour_0.0÷colour_1.0': \"AR ratio\",\n",
    "    \"Renyi preds and s\": \"Renyi corr\",\n",
    "    \"TPR_colour_0.0÷colour_1.0\": \"TPR ratio\",\n",
    "    'TNR_colour_0.0÷colour_1.0': \"TNR ratio\",\n",
    "}"
   ]
  },
  {
   "cell_type": "code",
   "execution_count": 27,
   "metadata": {},
   "outputs": [
    {
     "data": {
      "text/html": [
       "<div>\n",
       "<style scoped>\n",
       "    .dataframe tbody tr th:only-of-type {\n",
       "        vertical-align: middle;\n",
       "    }\n",
       "\n",
       "    .dataframe tbody tr th {\n",
       "        vertical-align: top;\n",
       "    }\n",
       "\n",
       "    .dataframe thead th {\n",
       "        text-align: right;\n",
       "    }\n",
       "</style>\n",
       "<table border=\"1\" class=\"dataframe\">\n",
       "  <thead>\n",
       "    <tr style=\"text-align: right;\">\n",
       "      <th></th>\n",
       "      <th>Method</th>\n",
       "      <th>Accuracy</th>\n",
       "      <th>AR ratio</th>\n",
       "      <th>Renyi corr</th>\n",
       "      <th>TPR ratio</th>\n",
       "      <th>TNR ratio</th>\n",
       "    </tr>\n",
       "  </thead>\n",
       "  <tbody>\n",
       "    <tr>\n",
       "      <th>0</th>\n",
       "      <td>CNN</td>\n",
       "      <td>0.627 $\\pm$ 0.054</td>\n",
       "      <td>0.338 $\\pm$ 0.024</td>\n",
       "      <td>0.784 $\\pm$ 0.069</td>\n",
       "      <td>0.996 $\\pm$ 0.003</td>\n",
       "      <td>0.039 $\\pm$ 0.054</td>\n",
       "    </tr>\n",
       "  </tbody>\n",
       "</table>\n",
       "</div>"
      ],
      "text/plain": [
       "  Method           Accuracy           AR ratio         Renyi corr  \\\n",
       "0    CNN  0.627 $\\pm$ 0.054  0.338 $\\pm$ 0.024  0.784 $\\pm$ 0.069   \n",
       "\n",
       "           TPR ratio          TNR ratio  \n",
       "0  0.996 $\\pm$ 0.003  0.039 $\\pm$ 0.054  "
      ]
     },
     "execution_count": 27,
     "metadata": {},
     "output_type": "execute_result"
    }
   ],
   "source": [
    "groupby = \"log_method\"\n",
    "res2 = (baselines[[groupby] + list(bl_cols)]\n",
    "        .groupby([groupby])\n",
    "        .agg(Cell(round_to=3)).rename(columns=bl_cols, inplace=False)\n",
    "        .reset_index(level=[groupby], inplace=False)\n",
    "        .rename(columns={groupby: \"Method\"}, inplace=False)\n",
    "       )\n",
    "res2"
   ]
  },
  {
   "cell_type": "code",
   "execution_count": 29,
   "metadata": {},
   "outputs": [
    {
     "data": {
      "text/html": [
       "<div>\n",
       "<style scoped>\n",
       "    .dataframe tbody tr th:only-of-type {\n",
       "        vertical-align: middle;\n",
       "    }\n",
       "\n",
       "    .dataframe tbody tr th {\n",
       "        vertical-align: top;\n",
       "    }\n",
       "\n",
       "    .dataframe thead th {\n",
       "        text-align: right;\n",
       "    }\n",
       "</style>\n",
       "<table border=\"1\" class=\"dataframe\">\n",
       "  <thead>\n",
       "    <tr style=\"text-align: right;\">\n",
       "      <th></th>\n",
       "      <th>Method</th>\n",
       "      <th>Accuracy</th>\n",
       "      <th>AR ratio</th>\n",
       "      <th>Renyi corr</th>\n",
       "      <th>TPR ratio</th>\n",
       "      <th>TNR ratio</th>\n",
       "    </tr>\n",
       "  </thead>\n",
       "  <tbody>\n",
       "    <tr>\n",
       "      <th>0</th>\n",
       "      <td>no cluster</td>\n",
       "      <td>0.882 $\\pm$ 0.076</td>\n",
       "      <td>0.7 $\\pm$ 0.213</td>\n",
       "      <td>0.264 $\\pm$ 0.169</td>\n",
       "      <td>0.993 $\\pm$ 0.009</td>\n",
       "      <td>0.703 $\\pm$ 0.292</td>\n",
       "    </tr>\n",
       "    <tr>\n",
       "      <th>1</th>\n",
       "      <td>CNN</td>\n",
       "      <td>0.627 $\\pm$ 0.054</td>\n",
       "      <td>0.338 $\\pm$ 0.024</td>\n",
       "      <td>0.784 $\\pm$ 0.069</td>\n",
       "      <td>0.996 $\\pm$ 0.003</td>\n",
       "      <td>0.039 $\\pm$ 0.054</td>\n",
       "    </tr>\n",
       "  </tbody>\n",
       "</table>\n",
       "</div>"
      ],
      "text/plain": [
       "       Method           Accuracy           AR ratio         Renyi corr  \\\n",
       "0  no cluster  0.882 $\\pm$ 0.076    0.7 $\\pm$ 0.213  0.264 $\\pm$ 0.169   \n",
       "1         CNN  0.627 $\\pm$ 0.054  0.338 $\\pm$ 0.024  0.784 $\\pm$ 0.069   \n",
       "\n",
       "           TPR ratio          TNR ratio  \n",
       "0  0.993 $\\pm$ 0.009  0.703 $\\pm$ 0.292  \n",
       "1  0.996 $\\pm$ 0.003  0.039 $\\pm$ 0.054  "
      ]
     },
     "execution_count": 29,
     "metadata": {},
     "output_type": "execute_result"
    }
   ],
   "source": [
    "table = pd.concat([res, res2]).reset_index(drop=True)\n",
    "table"
   ]
  },
  {
   "cell_type": "code",
   "execution_count": 30,
   "metadata": {},
   "outputs": [
    {
     "name": "stdout",
     "output_type": "stream",
     "text": [
      "\\begin{tabular}{llllll}\n",
      "\\toprule\n",
      "     Method &           Accuracy &           AR ratio &         Renyi corr &          TPR ratio &          TNR ratio \\\\\n",
      "\\midrule\n",
      " no cluster &  0.882 $\\pm$ 0.076 &    0.7 $\\pm$ 0.213 &  0.264 $\\pm$ 0.169 &  0.993 $\\pm$ 0.009 &  0.703 $\\pm$ 0.292 \\\\\n",
      "        CNN &  0.627 $\\pm$ 0.054 &  0.338 $\\pm$ 0.024 &  0.784 $\\pm$ 0.069 &  0.996 $\\pm$ 0.003 &  0.039 $\\pm$ 0.054 \\\\\n",
      "\\bottomrule\n",
      "\\end{tabular}\n",
      "\n"
     ]
    }
   ],
   "source": [
    "print(table.to_latex(index=False, escape=False))"
   ]
  },
  {
   "cell_type": "code",
   "execution_count": null,
   "metadata": {},
   "outputs": [],
   "source": []
  }
 ],
 "metadata": {
  "kernelspec": {
   "display_name": "Python 3",
   "language": "python",
   "name": "python3"
  },
  "language_info": {
   "codemirror_mode": {
    "name": "ipython",
    "version": 3
   },
   "file_extension": ".py",
   "mimetype": "text/x-python",
   "name": "python",
   "nbconvert_exporter": "python",
   "pygments_lexer": "ipython3",
   "version": "3.8.2"
  }
 },
 "nbformat": 4,
 "nbformat_minor": 4
}
