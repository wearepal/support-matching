{
 "cells": [
  {
   "cell_type": "code",
   "execution_count": 1,
   "metadata": {},
   "outputs": [],
   "source": [
    "from pathlib import Path\n",
    "import pandas as pd\n",
    "import numpy as np"
   ]
  },
  {
   "cell_type": "code",
   "execution_count": 3,
   "metadata": {},
   "outputs": [],
   "source": [
    "from utils import generate_table, Cell, simple_to_latex"
   ]
  },
  {
   "cell_type": "code",
   "execution_count": 4,
   "metadata": {},
   "outputs": [],
   "source": [
    "data = pd.read_csv(\"../../results/cmnist/2_digits/2colors/30seeds_base_post_iclr_submission.csv\")"
   ]
  },
  {
   "cell_type": "code",
   "execution_count": 5,
   "metadata": {},
   "outputs": [
    {
     "data": {
      "text/plain": [
       "perfect-cluster/cmnist/2digits/2colors/missing_s/baseline            30\n",
       "/cmnist/2digits/2colors/missing_s/baseline                           30\n",
       "ranking-fdm.cmnist-2digits-2colors-missing_s-baseline                30\n",
       "perfect-cluster.cmnist.2digits.2colors.mildly_subsampled.baseline    30\n",
       "no-cluster-fdm.cmnist.2digits.2colors.mildly_subsampled.baseline     30\n",
       "kmeans-fdm/cmnist/2digits/2colors/missing_s/baseline                 30\n",
       "kmeans-fdm.cmnist-2digits-2colors-mildy_subsampled-oldencoder        30\n",
       "kmeans-fdm.cmnist-2digits-2colors-missing_s-oldencoder               30\n",
       "ranking-fdm.cmnist-2digits-2colors-mildly_sumbsampled-baseline       30\n",
       "Name: Group, dtype: int64"
      ]
     },
     "execution_count": 5,
     "metadata": {},
     "output_type": "execute_result"
    }
   ],
   "source": [
    "data[\"Group\"].value_counts()"
   ]
  },
  {
   "cell_type": "code",
   "execution_count": 6,
   "metadata": {},
   "outputs": [],
   "source": [
    "data = data.replace({\"Group\": {\n",
    "    \"kmeans-fdm/cmnist/2digits/2colors/missing_s/baseline\": r\"k-means (new encoder)\",\n",
    "    \"perfect-cluster.cmnist.2digits.2colors.mildly_subsampled.baseline\": r\"\\texttt{ZSF+bal.\\ (ground truth)}\",\n",
    "    \"ranking-fdm.cmnist-2digits-2colors-missing_s-baseline\": r\"\\texttt{ZSF+bal.\\ (ranking)}\",\n",
    "    \"kmeans-fdm.cmnist-2digits-2colors-mildy_subsampled-oldencoder\": r\"\\texttt{ZSF+bal.\\ (k-means)}\",\n",
    "    \"/cmnist/2digits/2colors/missing_s/baseline\": r\"\\texttt{ZSF}\",\n",
    "    \"kmeans-fdm.cmnist-2digits-2colors-missing_s-oldencoder\": r\"\\texttt{ZSF+bal.\\ (k-means)}\",\n",
    "    \"ranking-fdm.cmnist-2digits-2colors-mildly_sumbsampled-baseline\": r\"\\texttt{ZSF+bal.\\ (ranking)}\",\n",
    "    \"perfect-cluster/cmnist/2digits/2colors/missing_s/baseline\": r\"\\texttt{ZSF+bal.\\ (ground truth)}\",\n",
    "    \"no-cluster-fdm.cmnist.2digits.2colors.mildly_subsampled.baseline\": r\"\\texttt{ZSF}\",\n",
    "}}, inplace=False)"
   ]
  },
  {
   "cell_type": "code",
   "execution_count": 7,
   "metadata": {},
   "outputs": [],
   "source": [
    "def merge(a, b):\n",
    "    data[a] = data[a].combine_first(data[b])\n",
    "\n",
    "merge(\"TPR_colour_0.0÷colour_1.0 (pytorch_classifier)\", \"TPR_colour_0.0/colour_1.0 (pytorch_classifier)\")\n",
    "merge(\"TNR_colour_0.0÷colour_1.0 (pytorch_classifier)\", \"TNR_colour_0.0/colour_1.0 (pytorch_classifier)\")\n",
    "merge('prob_pos_colour_0.0÷colour_1.0 (pytorch_classifier)', 'prob_pos_colour_0.0/colour_1.0 (pytorch_classifier)')"
   ]
  },
  {
   "cell_type": "code",
   "execution_count": 8,
   "metadata": {},
   "outputs": [
    {
     "data": {
      "text/plain": [
       "Index(['Name', 'User', 'Created', 'Runtime', 'State', 'Notes', 'Tags', 'Group',\n",
       "       'dataset', 'filter_labels', 'balanced_context', 'disc_weight',\n",
       "       'elbo_weight', 'enc_levels', 'lr', 'num_disc_updates', 'num_discs',\n",
       "       'seed', 'subsample_context.0', 'subsample_context.1',\n",
       "       'subsample_context.2', 'subsample_context.3', 'subsample_train.0',\n",
       "       'subsample_train.1', 'subsample_train.2', 'subsample_train.3',\n",
       "       'zs_frac', 'enc_init_chans', 'enc_out_dim', 'kl_weight', 'oversample',\n",
       "       'disc_method', 'Accuracy (pytorch_classifier)',\n",
       "       'Clust/Context Accuracy', 'Clust/Context ARI',\n",
       "       'Clust/Context Acc y=0 s=0', 'Clust/Context Acc y=0 s=1',\n",
       "       'Clust/Context Acc y=1 s=0', 'Clust/Context Acc y=1 s=1',\n",
       "       'Clust/Context NMI', 'Clust/Test ARI', 'Clust/Test Acc y=0 s=0',\n",
       "       'Clust/Test Acc y=0 s=1', 'Clust/Test Acc y=1 s=0',\n",
       "       'Clust/Test Acc y=1 s=1', 'Clust/Test Accuracy', 'Clust/Test NMI',\n",
       "       'Renyi preds and s (pytorch_classifier)',\n",
       "       'TPR_colour_0.0÷colour_1.0 (pytorch_classifier)',\n",
       "       'TNR_colour_0.0÷colour_1.0 (pytorch_classifier)',\n",
       "       'prob_pos_colour_0.0÷colour_1.0 (pytorch_classifier)',\n",
       "       'TPR_colour_0.0/colour_1.0 (pytorch_classifier)',\n",
       "       'TNR_colour_0.0/colour_1.0 (pytorch_classifier)',\n",
       "       'prob_pos_colour_0.0/colour_1.0 (pytorch_classifier)'],\n",
       "      dtype='object')"
      ]
     },
     "execution_count": 8,
     "metadata": {},
     "output_type": "execute_result"
    }
   ],
   "source": [
    "data.columns"
   ]
  },
  {
   "cell_type": "code",
   "execution_count": 9,
   "metadata": {},
   "outputs": [],
   "source": [
    "def table(filter_, cols, groupby: str = \"Group\"):\n",
    "    return (\n",
    "        data\n",
    "        .query(filter_)\n",
    "        .groupby(groupby, sort=False)\n",
    "        .agg(Cell(round_to=3))[list(cols)]\n",
    "        .reset_index(level=[groupby], inplace=False)\n",
    "        .rename(columns=cols, inplace=False)\n",
    "    )"
   ]
  },
  {
   "cell_type": "code",
   "execution_count": 10,
   "metadata": {},
   "outputs": [],
   "source": [
    "cols = {\n",
    "    'Clust/Context Accuracy': \"Clust Acc\",\n",
    "    'Clust/Context NMI': \"Clust NMI\",\n",
    "    'Clust/Context ARI': \"Clust ARI\",\n",
    "    \"Accuracy (pytorch_classifier)\": \"Accuracy\",\n",
    "    'prob_pos_colour_0.0÷colour_1.0 (pytorch_classifier)': \"AR ratio\",\n",
    "    \"Renyi preds and s (pytorch_classifier)\": \"Renyi corr\",\n",
    "    \"TPR_colour_0.0÷colour_1.0 (pytorch_classifier)\": \"TPR ratio\",\n",
    "    'TNR_colour_0.0÷colour_1.0 (pytorch_classifier)': \"TNR ratio\",\n",
    "}"
   ]
  },
  {
   "cell_type": "code",
   "execution_count": 13,
   "metadata": {},
   "outputs": [
    {
     "data": {
      "text/html": [
       "<div>\n",
       "<style scoped>\n",
       "    .dataframe tbody tr th:only-of-type {\n",
       "        vertical-align: middle;\n",
       "    }\n",
       "\n",
       "    .dataframe tbody tr th {\n",
       "        vertical-align: top;\n",
       "    }\n",
       "\n",
       "    .dataframe thead th {\n",
       "        text-align: right;\n",
       "    }\n",
       "</style>\n",
       "<table border=\"1\" class=\"dataframe\">\n",
       "  <thead>\n",
       "    <tr style=\"text-align: right;\">\n",
       "      <th></th>\n",
       "      <th>Group</th>\n",
       "      <th>Clust Acc</th>\n",
       "      <th>Clust NMI</th>\n",
       "      <th>Clust ARI</th>\n",
       "      <th>Accuracy</th>\n",
       "      <th>AR ratio</th>\n",
       "      <th>Renyi corr</th>\n",
       "      <th>TPR ratio</th>\n",
       "      <th>TNR ratio</th>\n",
       "    </tr>\n",
       "  </thead>\n",
       "  <tbody>\n",
       "    <tr>\n",
       "      <th>0</th>\n",
       "      <td>\\texttt{ZSF+bal.\\ (ground truth)}</td>\n",
       "      <td>N/A</td>\n",
       "      <td>N/A</td>\n",
       "      <td>N/A</td>\n",
       "      <td>0.92 $\\pm$ 0.058</td>\n",
       "      <td>0.686 $\\pm$ 0.245</td>\n",
       "      <td>0.162 $\\pm$ 0.138</td>\n",
       "      <td>0.684 $\\pm$ 0.241</td>\n",
       "      <td>0.997 $\\pm$ 0.003</td>\n",
       "    </tr>\n",
       "    <tr>\n",
       "      <th>1</th>\n",
       "      <td>\\texttt{ZSF+bal.\\ (k-means)}</td>\n",
       "      <td>0.732 $\\pm$ 0.157</td>\n",
       "      <td>0.723 $\\pm$ 0.139</td>\n",
       "      <td>0.632 $\\pm$ 0.2</td>\n",
       "      <td>0.904 $\\pm$ 0.076</td>\n",
       "      <td>0.627 $\\pm$ 0.308</td>\n",
       "      <td>0.196 $\\pm$ 0.174</td>\n",
       "      <td>0.63 $\\pm$ 0.313</td>\n",
       "      <td>0.995 $\\pm$ 0.004</td>\n",
       "    </tr>\n",
       "    <tr>\n",
       "      <th>2</th>\n",
       "      <td>\\texttt{ZSF+bal.\\ (ranking)}</td>\n",
       "      <td>0.983 $\\pm$ 0.006</td>\n",
       "      <td>0.939 $\\pm$ 0.018</td>\n",
       "      <td>0.964 $\\pm$ 0.011</td>\n",
       "      <td>0.912 $\\pm$ 0.056</td>\n",
       "      <td>0.653 $\\pm$ 0.232</td>\n",
       "      <td>0.178 $\\pm$ 0.128</td>\n",
       "      <td>0.652 $\\pm$ 0.227</td>\n",
       "      <td>0.995 $\\pm$ 0.005</td>\n",
       "    </tr>\n",
       "    <tr>\n",
       "      <th>3</th>\n",
       "      <td>\\texttt{ZSF}</td>\n",
       "      <td>N/A</td>\n",
       "      <td>N/A</td>\n",
       "      <td>N/A</td>\n",
       "      <td>0.829 $\\pm$ 0.083</td>\n",
       "      <td>0.306 $\\pm$ 0.337</td>\n",
       "      <td>0.381 $\\pm$ 0.196</td>\n",
       "      <td>0.31 $\\pm$ 0.342</td>\n",
       "      <td>0.994 $\\pm$ 0.006</td>\n",
       "    </tr>\n",
       "  </tbody>\n",
       "</table>\n",
       "</div>"
      ],
      "text/plain": [
       "                               Group          Clust Acc          Clust NMI  \\\n",
       "0  \\texttt{ZSF+bal.\\ (ground truth)}                N/A                N/A   \n",
       "1       \\texttt{ZSF+bal.\\ (k-means)}  0.732 $\\pm$ 0.157  0.723 $\\pm$ 0.139   \n",
       "2       \\texttt{ZSF+bal.\\ (ranking)}  0.983 $\\pm$ 0.006  0.939 $\\pm$ 0.018   \n",
       "3                       \\texttt{ZSF}                N/A                N/A   \n",
       "\n",
       "           Clust ARI           Accuracy           AR ratio         Renyi corr  \\\n",
       "0                N/A   0.92 $\\pm$ 0.058  0.686 $\\pm$ 0.245  0.162 $\\pm$ 0.138   \n",
       "1    0.632 $\\pm$ 0.2  0.904 $\\pm$ 0.076  0.627 $\\pm$ 0.308  0.196 $\\pm$ 0.174   \n",
       "2  0.964 $\\pm$ 0.011  0.912 $\\pm$ 0.056  0.653 $\\pm$ 0.232  0.178 $\\pm$ 0.128   \n",
       "3                N/A  0.829 $\\pm$ 0.083  0.306 $\\pm$ 0.337  0.381 $\\pm$ 0.196   \n",
       "\n",
       "           TPR ratio          TNR ratio  \n",
       "0  0.684 $\\pm$ 0.241  0.997 $\\pm$ 0.003  \n",
       "1   0.63 $\\pm$ 0.313  0.995 $\\pm$ 0.004  \n",
       "2  0.652 $\\pm$ 0.227  0.995 $\\pm$ 0.005  \n",
       "3   0.31 $\\pm$ 0.342  0.994 $\\pm$ 0.006  "
      ]
     },
     "execution_count": 13,
     "metadata": {},
     "output_type": "execute_result"
    }
   ],
   "source": [
    "res_partial = table(\"`subsample_train.0` == 1.0\", cols)\n",
    "res_partial"
   ]
  },
  {
   "cell_type": "code",
   "execution_count": 14,
   "metadata": {},
   "outputs": [
    {
     "data": {
      "text/html": [
       "<div>\n",
       "<style scoped>\n",
       "    .dataframe tbody tr th:only-of-type {\n",
       "        vertical-align: middle;\n",
       "    }\n",
       "\n",
       "    .dataframe tbody tr th {\n",
       "        vertical-align: top;\n",
       "    }\n",
       "\n",
       "    .dataframe thead th {\n",
       "        text-align: right;\n",
       "    }\n",
       "</style>\n",
       "<table border=\"1\" class=\"dataframe\">\n",
       "  <thead>\n",
       "    <tr style=\"text-align: right;\">\n",
       "      <th></th>\n",
       "      <th>Group</th>\n",
       "      <th>Clust Acc</th>\n",
       "      <th>Clust NMI</th>\n",
       "      <th>Clust ARI</th>\n",
       "      <th>Accuracy</th>\n",
       "      <th>AR ratio</th>\n",
       "      <th>Renyi corr</th>\n",
       "      <th>TPR ratio</th>\n",
       "      <th>TNR ratio</th>\n",
       "    </tr>\n",
       "  </thead>\n",
       "  <tbody>\n",
       "    <tr>\n",
       "      <th>0</th>\n",
       "      <td>\\texttt{ZSF+bal.\\ (ground truth)}</td>\n",
       "      <td>N/A</td>\n",
       "      <td>N/A</td>\n",
       "      <td>N/A</td>\n",
       "      <td>0.888 $\\pm$ 0.088</td>\n",
       "      <td>0.854 $\\pm$ 0.089</td>\n",
       "      <td>0.09 $\\pm$ 0.064</td>\n",
       "      <td>0.852 $\\pm$ 0.175</td>\n",
       "      <td>0.714 $\\pm$ 0.203</td>\n",
       "    </tr>\n",
       "    <tr>\n",
       "      <th>1</th>\n",
       "      <td>\\texttt{ZSF+bal.\\ (k-means)}</td>\n",
       "      <td>0.716 $\\pm$ 0.153</td>\n",
       "      <td>0.723 $\\pm$ 0.123</td>\n",
       "      <td>0.614 $\\pm$ 0.193</td>\n",
       "      <td>0.796 $\\pm$ 0.104</td>\n",
       "      <td>0.688 $\\pm$ 0.219</td>\n",
       "      <td>0.227 $\\pm$ 0.168</td>\n",
       "      <td>0.709 $\\pm$ 0.328</td>\n",
       "      <td>0.492 $\\pm$ 0.296</td>\n",
       "    </tr>\n",
       "    <tr>\n",
       "      <th>2</th>\n",
       "      <td>\\texttt{ZSF+bal.\\ (ranking)}</td>\n",
       "      <td>0.922 $\\pm$ 0.024</td>\n",
       "      <td>0.836 $\\pm$ 0.03</td>\n",
       "      <td>0.861 $\\pm$ 0.032</td>\n",
       "      <td>0.868 $\\pm$ 0.114</td>\n",
       "      <td>0.876 $\\pm$ 0.097</td>\n",
       "      <td>0.076 $\\pm$ 0.07</td>\n",
       "      <td>0.783 $\\pm$ 0.265</td>\n",
       "      <td>0.702 $\\pm$ 0.23</td>\n",
       "    </tr>\n",
       "    <tr>\n",
       "      <th>3</th>\n",
       "      <td>\\texttt{ZSF}</td>\n",
       "      <td>N/A</td>\n",
       "      <td>N/A</td>\n",
       "      <td>N/A</td>\n",
       "      <td>0.851 $\\pm$ 0.143</td>\n",
       "      <td>0.729 $\\pm$ 0.257</td>\n",
       "      <td>0.148 $\\pm$ 0.14</td>\n",
       "      <td>0.622 $\\pm$ 0.405</td>\n",
       "      <td>0.797 $\\pm$ 0.261</td>\n",
       "    </tr>\n",
       "    <tr>\n",
       "      <th>4</th>\n",
       "      <td>k-means (new encoder)</td>\n",
       "      <td>N/A</td>\n",
       "      <td>N/A</td>\n",
       "      <td>N/A</td>\n",
       "      <td>0.81 $\\pm$ 0.132</td>\n",
       "      <td>0.751 $\\pm$ 0.165</td>\n",
       "      <td>0.175 $\\pm$ 0.138</td>\n",
       "      <td>0.712 $\\pm$ 0.345</td>\n",
       "      <td>0.541 $\\pm$ 0.308</td>\n",
       "    </tr>\n",
       "  </tbody>\n",
       "</table>\n",
       "</div>"
      ],
      "text/plain": [
       "                               Group          Clust Acc          Clust NMI  \\\n",
       "0  \\texttt{ZSF+bal.\\ (ground truth)}                N/A                N/A   \n",
       "1       \\texttt{ZSF+bal.\\ (k-means)}  0.716 $\\pm$ 0.153  0.723 $\\pm$ 0.123   \n",
       "2       \\texttt{ZSF+bal.\\ (ranking)}  0.922 $\\pm$ 0.024   0.836 $\\pm$ 0.03   \n",
       "3                       \\texttt{ZSF}                N/A                N/A   \n",
       "4              k-means (new encoder)                N/A                N/A   \n",
       "\n",
       "           Clust ARI           Accuracy           AR ratio         Renyi corr  \\\n",
       "0                N/A  0.888 $\\pm$ 0.088  0.854 $\\pm$ 0.089   0.09 $\\pm$ 0.064   \n",
       "1  0.614 $\\pm$ 0.193  0.796 $\\pm$ 0.104  0.688 $\\pm$ 0.219  0.227 $\\pm$ 0.168   \n",
       "2  0.861 $\\pm$ 0.032  0.868 $\\pm$ 0.114  0.876 $\\pm$ 0.097   0.076 $\\pm$ 0.07   \n",
       "3                N/A  0.851 $\\pm$ 0.143  0.729 $\\pm$ 0.257   0.148 $\\pm$ 0.14   \n",
       "4                N/A   0.81 $\\pm$ 0.132  0.751 $\\pm$ 0.165  0.175 $\\pm$ 0.138   \n",
       "\n",
       "           TPR ratio          TNR ratio  \n",
       "0  0.852 $\\pm$ 0.175  0.714 $\\pm$ 0.203  \n",
       "1  0.709 $\\pm$ 0.328  0.492 $\\pm$ 0.296  \n",
       "2  0.783 $\\pm$ 0.265   0.702 $\\pm$ 0.23  \n",
       "3  0.622 $\\pm$ 0.405  0.797 $\\pm$ 0.261  \n",
       "4  0.712 $\\pm$ 0.345  0.541 $\\pm$ 0.308  "
      ]
     },
     "execution_count": 14,
     "metadata": {},
     "output_type": "execute_result"
    }
   ],
   "source": [
    "res_miss_s = table(\"`subsample_train.0` == 0.0\", cols)\n",
    "res_miss_s"
   ]
  },
  {
   "cell_type": "code",
   "execution_count": null,
   "metadata": {},
   "outputs": [],
   "source": []
  }
 ],
 "metadata": {
  "kernelspec": {
   "display_name": "Python 3",
   "language": "python",
   "name": "python3"
  },
  "language_info": {
   "codemirror_mode": {
    "name": "ipython",
    "version": 3
   },
   "file_extension": ".py",
   "mimetype": "text/x-python",
   "name": "python",
   "nbconvert_exporter": "python",
   "pygments_lexer": "ipython3",
   "version": "3.8.2"
  }
 },
 "nbformat": 4,
 "nbformat_minor": 4
}
