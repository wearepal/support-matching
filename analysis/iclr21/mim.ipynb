{
 "cells": [
  {
   "cell_type": "code",
   "execution_count": 7,
   "metadata": {},
   "outputs": [
    {
     "name": "stdout",
     "output_type": "stream",
     "text": [
      "0.687 $\\pm$ 0.024\n",
      "0.776 $\\pm$ 0.137\n",
      "0.799 $\\pm$ 0.134\n",
      "0.969 $\\pm$ 0.027\n"
     ]
    }
   ],
   "source": [
    "# adult, groundtruth\n",
    "\n",
    "acc = (0.687, 0.024)\n",
    "AR = (0.776, 0.137)\n",
    "TPR = (0.799, 0.134)\n",
    "TNR = (0.969, 0.027)\n",
    "\n",
    "for mean_, std_ in (acc, AR, TPR, TNR):\n",
    "    print(f\"{round(mean_, 3)} $\\\\pm$ {round(std_, 3)}\")"
   ]
  },
  {
   "cell_type": "code",
   "execution_count": 3,
   "metadata": {},
   "outputs": [],
   "source": [
    "# cmnist, 3 digits, groundtruth\n",
    "\n",
    "acc = (0.449, 0.014)\n",
    "renyi = (0.483, 0.040)\n",
    "\n",
    "AR = []\n",
    "AR.append((0.537, 0.268))\n",
    "AR.append((0.866, 0.309))\n",
    "AR.append((0.500, 0.305))\n",
    "\n",
    "TPR = []\n",
    "TPR.append((0.912, 0.245))\n",
    "TPR.append((1, 0))\n",
    "TPR.append((0.912, 0.245))\n",
    "\n",
    "TNR = []\n",
    "TNR.append((0.446, 0.497))\n",
    "TNR.append((0.584, 0.495))\n",
    "TNR.append((0.468, 0.470))"
   ]
  },
  {
   "cell_type": "code",
   "execution_count": 5,
   "metadata": {},
   "outputs": [
    {
     "name": "stdout",
     "output_type": "stream",
     "text": [
      "0.634 $\\pm$ 0.294\n",
      "--------\n",
      "0.941 $\\pm$ 0.163\n",
      "--------\n",
      "0.499 $\\pm$ 0.487\n",
      "--------\n"
     ]
    }
   ],
   "source": [
    "for met in (AR, TPR, TNR):\n",
    "    mean_ = 0\n",
    "    std_ = 0\n",
    "    for mean, std in met:\n",
    "        mean_ += mean\n",
    "        std_ += std\n",
    "    print(f\"{round(mean_ / 3, 3)} $\\\\pm$ {round(std_ / 3, 3)}\")\n",
    "    print(\"--------\")"
   ]
  },
  {
   "cell_type": "code",
   "execution_count": null,
   "metadata": {},
   "outputs": [],
   "source": []
  }
 ],
 "metadata": {
  "kernelspec": {
   "display_name": "Python 3",
   "language": "python",
   "name": "python3"
  },
  "language_info": {
   "codemirror_mode": {
    "name": "ipython",
    "version": 3
   },
   "file_extension": ".py",
   "mimetype": "text/x-python",
   "name": "python",
   "nbconvert_exporter": "python",
   "pygments_lexer": "ipython3",
   "version": "3.8.2"
  }
 },
 "nbformat": 4,
 "nbformat_minor": 4
}
